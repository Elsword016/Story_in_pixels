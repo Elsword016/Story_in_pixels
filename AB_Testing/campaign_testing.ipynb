{
 "cells": [
  {
   "cell_type": "code",
   "execution_count": 1,
   "metadata": {},
   "outputs": [],
   "source": [
    "import numpy as np \n",
    "import pandas as pd  \n",
    "import matplotlib.pyplot as plt \n",
    "import seaborn as sns "
   ]
  },
  {
   "cell_type": "code",
   "execution_count": 2,
   "metadata": {},
   "outputs": [],
   "source": [
    "ctrl_grp = pd.read_csv('control_group.csv',delimiter=';')\n",
    "test_grp = pd.read_csv('test_group.csv',delimiter=';')  "
   ]
  },
  {
   "cell_type": "code",
   "execution_count": 3,
   "metadata": {},
   "outputs": [
    {
     "data": {
      "text/html": [
       "<div>\n",
       "<style scoped>\n",
       "    .dataframe tbody tr th:only-of-type {\n",
       "        vertical-align: middle;\n",
       "    }\n",
       "\n",
       "    .dataframe tbody tr th {\n",
       "        vertical-align: top;\n",
       "    }\n",
       "\n",
       "    .dataframe thead th {\n",
       "        text-align: right;\n",
       "    }\n",
       "</style>\n",
       "<table border=\"1\" class=\"dataframe\">\n",
       "  <thead>\n",
       "    <tr style=\"text-align: right;\">\n",
       "      <th></th>\n",
       "      <th>Campaign Name</th>\n",
       "      <th>Date</th>\n",
       "      <th>Spend [USD]</th>\n",
       "      <th># of Impressions</th>\n",
       "      <th>Reach</th>\n",
       "      <th># of Website Clicks</th>\n",
       "      <th># of Searches</th>\n",
       "      <th># of View Content</th>\n",
       "      <th># of Add to Cart</th>\n",
       "      <th># of Purchase</th>\n",
       "    </tr>\n",
       "  </thead>\n",
       "  <tbody>\n",
       "    <tr>\n",
       "      <th>0</th>\n",
       "      <td>Control Campaign</td>\n",
       "      <td>1.08.2019</td>\n",
       "      <td>2280</td>\n",
       "      <td>82702.0</td>\n",
       "      <td>56930.0</td>\n",
       "      <td>7016.0</td>\n",
       "      <td>2290.0</td>\n",
       "      <td>2159.0</td>\n",
       "      <td>1819.0</td>\n",
       "      <td>618.0</td>\n",
       "    </tr>\n",
       "    <tr>\n",
       "      <th>1</th>\n",
       "      <td>Control Campaign</td>\n",
       "      <td>2.08.2019</td>\n",
       "      <td>1757</td>\n",
       "      <td>121040.0</td>\n",
       "      <td>102513.0</td>\n",
       "      <td>8110.0</td>\n",
       "      <td>2033.0</td>\n",
       "      <td>1841.0</td>\n",
       "      <td>1219.0</td>\n",
       "      <td>511.0</td>\n",
       "    </tr>\n",
       "    <tr>\n",
       "      <th>2</th>\n",
       "      <td>Control Campaign</td>\n",
       "      <td>3.08.2019</td>\n",
       "      <td>2343</td>\n",
       "      <td>131711.0</td>\n",
       "      <td>110862.0</td>\n",
       "      <td>6508.0</td>\n",
       "      <td>1737.0</td>\n",
       "      <td>1549.0</td>\n",
       "      <td>1134.0</td>\n",
       "      <td>372.0</td>\n",
       "    </tr>\n",
       "    <tr>\n",
       "      <th>3</th>\n",
       "      <td>Control Campaign</td>\n",
       "      <td>4.08.2019</td>\n",
       "      <td>1940</td>\n",
       "      <td>72878.0</td>\n",
       "      <td>61235.0</td>\n",
       "      <td>3065.0</td>\n",
       "      <td>1042.0</td>\n",
       "      <td>982.0</td>\n",
       "      <td>1183.0</td>\n",
       "      <td>340.0</td>\n",
       "    </tr>\n",
       "    <tr>\n",
       "      <th>4</th>\n",
       "      <td>Control Campaign</td>\n",
       "      <td>5.08.2019</td>\n",
       "      <td>1835</td>\n",
       "      <td>NaN</td>\n",
       "      <td>NaN</td>\n",
       "      <td>NaN</td>\n",
       "      <td>NaN</td>\n",
       "      <td>NaN</td>\n",
       "      <td>NaN</td>\n",
       "      <td>NaN</td>\n",
       "    </tr>\n",
       "  </tbody>\n",
       "</table>\n",
       "</div>"
      ],
      "text/plain": [
       "      Campaign Name       Date  Spend [USD]  # of Impressions     Reach  \\\n",
       "0  Control Campaign  1.08.2019         2280           82702.0   56930.0   \n",
       "1  Control Campaign  2.08.2019         1757          121040.0  102513.0   \n",
       "2  Control Campaign  3.08.2019         2343          131711.0  110862.0   \n",
       "3  Control Campaign  4.08.2019         1940           72878.0   61235.0   \n",
       "4  Control Campaign  5.08.2019         1835               NaN       NaN   \n",
       "\n",
       "   # of Website Clicks  # of Searches  # of View Content  # of Add to Cart  \\\n",
       "0               7016.0         2290.0             2159.0            1819.0   \n",
       "1               8110.0         2033.0             1841.0            1219.0   \n",
       "2               6508.0         1737.0             1549.0            1134.0   \n",
       "3               3065.0         1042.0              982.0            1183.0   \n",
       "4                  NaN            NaN                NaN               NaN   \n",
       "\n",
       "   # of Purchase  \n",
       "0          618.0  \n",
       "1          511.0  \n",
       "2          372.0  \n",
       "3          340.0  \n",
       "4            NaN  "
      ]
     },
     "execution_count": 3,
     "metadata": {},
     "output_type": "execute_result"
    }
   ],
   "source": [
    "ctrl_grp.head() \n"
   ]
  },
  {
   "cell_type": "code",
   "execution_count": 4,
   "metadata": {},
   "outputs": [
    {
     "data": {
      "text/html": [
       "<div>\n",
       "<style scoped>\n",
       "    .dataframe tbody tr th:only-of-type {\n",
       "        vertical-align: middle;\n",
       "    }\n",
       "\n",
       "    .dataframe tbody tr th {\n",
       "        vertical-align: top;\n",
       "    }\n",
       "\n",
       "    .dataframe thead th {\n",
       "        text-align: right;\n",
       "    }\n",
       "</style>\n",
       "<table border=\"1\" class=\"dataframe\">\n",
       "  <thead>\n",
       "    <tr style=\"text-align: right;\">\n",
       "      <th></th>\n",
       "      <th>Campaign Name</th>\n",
       "      <th>Date</th>\n",
       "      <th>Spend [USD]</th>\n",
       "      <th># of Impressions</th>\n",
       "      <th>Reach</th>\n",
       "      <th># of Website Clicks</th>\n",
       "      <th># of Searches</th>\n",
       "      <th># of View Content</th>\n",
       "      <th># of Add to Cart</th>\n",
       "      <th># of Purchase</th>\n",
       "    </tr>\n",
       "  </thead>\n",
       "  <tbody>\n",
       "    <tr>\n",
       "      <th>0</th>\n",
       "      <td>Test Campaign</td>\n",
       "      <td>1.08.2019</td>\n",
       "      <td>3008</td>\n",
       "      <td>39550</td>\n",
       "      <td>35820</td>\n",
       "      <td>3038</td>\n",
       "      <td>1946</td>\n",
       "      <td>1069</td>\n",
       "      <td>894</td>\n",
       "      <td>255</td>\n",
       "    </tr>\n",
       "    <tr>\n",
       "      <th>1</th>\n",
       "      <td>Test Campaign</td>\n",
       "      <td>2.08.2019</td>\n",
       "      <td>2542</td>\n",
       "      <td>100719</td>\n",
       "      <td>91236</td>\n",
       "      <td>4657</td>\n",
       "      <td>2359</td>\n",
       "      <td>1548</td>\n",
       "      <td>879</td>\n",
       "      <td>677</td>\n",
       "    </tr>\n",
       "    <tr>\n",
       "      <th>2</th>\n",
       "      <td>Test Campaign</td>\n",
       "      <td>3.08.2019</td>\n",
       "      <td>2365</td>\n",
       "      <td>70263</td>\n",
       "      <td>45198</td>\n",
       "      <td>7885</td>\n",
       "      <td>2572</td>\n",
       "      <td>2367</td>\n",
       "      <td>1268</td>\n",
       "      <td>578</td>\n",
       "    </tr>\n",
       "    <tr>\n",
       "      <th>3</th>\n",
       "      <td>Test Campaign</td>\n",
       "      <td>4.08.2019</td>\n",
       "      <td>2710</td>\n",
       "      <td>78451</td>\n",
       "      <td>25937</td>\n",
       "      <td>4216</td>\n",
       "      <td>2216</td>\n",
       "      <td>1437</td>\n",
       "      <td>566</td>\n",
       "      <td>340</td>\n",
       "    </tr>\n",
       "    <tr>\n",
       "      <th>4</th>\n",
       "      <td>Test Campaign</td>\n",
       "      <td>5.08.2019</td>\n",
       "      <td>2297</td>\n",
       "      <td>114295</td>\n",
       "      <td>95138</td>\n",
       "      <td>5863</td>\n",
       "      <td>2106</td>\n",
       "      <td>858</td>\n",
       "      <td>956</td>\n",
       "      <td>768</td>\n",
       "    </tr>\n",
       "  </tbody>\n",
       "</table>\n",
       "</div>"
      ],
      "text/plain": [
       "   Campaign Name       Date  Spend [USD]  # of Impressions  Reach  \\\n",
       "0  Test Campaign  1.08.2019         3008             39550  35820   \n",
       "1  Test Campaign  2.08.2019         2542            100719  91236   \n",
       "2  Test Campaign  3.08.2019         2365             70263  45198   \n",
       "3  Test Campaign  4.08.2019         2710             78451  25937   \n",
       "4  Test Campaign  5.08.2019         2297            114295  95138   \n",
       "\n",
       "   # of Website Clicks  # of Searches  # of View Content  # of Add to Cart  \\\n",
       "0                 3038           1946               1069               894   \n",
       "1                 4657           2359               1548               879   \n",
       "2                 7885           2572               2367              1268   \n",
       "3                 4216           2216               1437               566   \n",
       "4                 5863           2106                858               956   \n",
       "\n",
       "   # of Purchase  \n",
       "0            255  \n",
       "1            677  \n",
       "2            578  \n",
       "3            340  \n",
       "4            768  "
      ]
     },
     "execution_count": 4,
     "metadata": {},
     "output_type": "execute_result"
    }
   ],
   "source": [
    "test_grp.head()  \n"
   ]
  },
  {
   "cell_type": "code",
   "execution_count": 5,
   "metadata": {},
   "outputs": [
    {
     "data": {
      "text/plain": [
       "Campaign Name          0\n",
       "Date                   0\n",
       "Spend [USD]            0\n",
       "# of Impressions       1\n",
       "Reach                  1\n",
       "# of Website Clicks    1\n",
       "# of Searches          1\n",
       "# of View Content      1\n",
       "# of Add to Cart       1\n",
       "# of Purchase          1\n",
       "dtype: int64"
      ]
     },
     "execution_count": 5,
     "metadata": {},
     "output_type": "execute_result"
    }
   ],
   "source": [
    "#check for missing values  \n",
    "ctrl_grp.isnull().sum()\n",
    "#test_grp.isnull().sum()\n",
    "\n"
   ]
  },
  {
   "cell_type": "code",
   "execution_count": 6,
   "metadata": {},
   "outputs": [],
   "source": [
    "ctrl_grp = ctrl_grp.dropna() \n"
   ]
  },
  {
   "cell_type": "code",
   "execution_count": 7,
   "metadata": {},
   "outputs": [
    {
     "data": {
      "text/html": [
       "<div>\n",
       "<style scoped>\n",
       "    .dataframe tbody tr th:only-of-type {\n",
       "        vertical-align: middle;\n",
       "    }\n",
       "\n",
       "    .dataframe tbody tr th {\n",
       "        vertical-align: top;\n",
       "    }\n",
       "\n",
       "    .dataframe thead th {\n",
       "        text-align: right;\n",
       "    }\n",
       "</style>\n",
       "<table border=\"1\" class=\"dataframe\">\n",
       "  <thead>\n",
       "    <tr style=\"text-align: right;\">\n",
       "      <th></th>\n",
       "      <th>Campaign Name</th>\n",
       "      <th>Date</th>\n",
       "      <th>Spend [USD]</th>\n",
       "      <th># of Impressions</th>\n",
       "      <th>Reach</th>\n",
       "      <th># of Website Clicks</th>\n",
       "      <th># of Searches</th>\n",
       "      <th># of View Content</th>\n",
       "      <th># of Add to Cart</th>\n",
       "      <th># of Purchase</th>\n",
       "    </tr>\n",
       "  </thead>\n",
       "  <tbody>\n",
       "    <tr>\n",
       "      <th>0</th>\n",
       "      <td>Control Campaign</td>\n",
       "      <td>1.08.2019</td>\n",
       "      <td>2280</td>\n",
       "      <td>82702.0</td>\n",
       "      <td>56930.0</td>\n",
       "      <td>7016.0</td>\n",
       "      <td>2290.0</td>\n",
       "      <td>2159.0</td>\n",
       "      <td>1819.0</td>\n",
       "      <td>618.0</td>\n",
       "    </tr>\n",
       "    <tr>\n",
       "      <th>1</th>\n",
       "      <td>Control Campaign</td>\n",
       "      <td>2.08.2019</td>\n",
       "      <td>1757</td>\n",
       "      <td>121040.0</td>\n",
       "      <td>102513.0</td>\n",
       "      <td>8110.0</td>\n",
       "      <td>2033.0</td>\n",
       "      <td>1841.0</td>\n",
       "      <td>1219.0</td>\n",
       "      <td>511.0</td>\n",
       "    </tr>\n",
       "    <tr>\n",
       "      <th>2</th>\n",
       "      <td>Control Campaign</td>\n",
       "      <td>3.08.2019</td>\n",
       "      <td>2343</td>\n",
       "      <td>131711.0</td>\n",
       "      <td>110862.0</td>\n",
       "      <td>6508.0</td>\n",
       "      <td>1737.0</td>\n",
       "      <td>1549.0</td>\n",
       "      <td>1134.0</td>\n",
       "      <td>372.0</td>\n",
       "    </tr>\n",
       "    <tr>\n",
       "      <th>3</th>\n",
       "      <td>Control Campaign</td>\n",
       "      <td>4.08.2019</td>\n",
       "      <td>1940</td>\n",
       "      <td>72878.0</td>\n",
       "      <td>61235.0</td>\n",
       "      <td>3065.0</td>\n",
       "      <td>1042.0</td>\n",
       "      <td>982.0</td>\n",
       "      <td>1183.0</td>\n",
       "      <td>340.0</td>\n",
       "    </tr>\n",
       "    <tr>\n",
       "      <th>5</th>\n",
       "      <td>Control Campaign</td>\n",
       "      <td>6.08.2019</td>\n",
       "      <td>3083</td>\n",
       "      <td>109076.0</td>\n",
       "      <td>87998.0</td>\n",
       "      <td>4028.0</td>\n",
       "      <td>1709.0</td>\n",
       "      <td>1249.0</td>\n",
       "      <td>784.0</td>\n",
       "      <td>764.0</td>\n",
       "    </tr>\n",
       "  </tbody>\n",
       "</table>\n",
       "</div>"
      ],
      "text/plain": [
       "      Campaign Name       Date  Spend [USD]  # of Impressions     Reach  \\\n",
       "0  Control Campaign  1.08.2019         2280           82702.0   56930.0   \n",
       "1  Control Campaign  2.08.2019         1757          121040.0  102513.0   \n",
       "2  Control Campaign  3.08.2019         2343          131711.0  110862.0   \n",
       "3  Control Campaign  4.08.2019         1940           72878.0   61235.0   \n",
       "5  Control Campaign  6.08.2019         3083          109076.0   87998.0   \n",
       "\n",
       "   # of Website Clicks  # of Searches  # of View Content  # of Add to Cart  \\\n",
       "0               7016.0         2290.0             2159.0            1819.0   \n",
       "1               8110.0         2033.0             1841.0            1219.0   \n",
       "2               6508.0         1737.0             1549.0            1134.0   \n",
       "3               3065.0         1042.0              982.0            1183.0   \n",
       "5               4028.0         1709.0             1249.0             784.0   \n",
       "\n",
       "   # of Purchase  \n",
       "0          618.0  \n",
       "1          511.0  \n",
       "2          372.0  \n",
       "3          340.0  \n",
       "5          764.0  "
      ]
     },
     "execution_count": 7,
     "metadata": {},
     "output_type": "execute_result"
    }
   ],
   "source": [
    "ctrl_grp.head()  \n"
   ]
  },
  {
   "cell_type": "code",
   "execution_count": 8,
   "metadata": {},
   "outputs": [
    {
     "data": {
      "text/html": [
       "<div>\n",
       "<style scoped>\n",
       "    .dataframe tbody tr th:only-of-type {\n",
       "        vertical-align: middle;\n",
       "    }\n",
       "\n",
       "    .dataframe tbody tr th {\n",
       "        vertical-align: top;\n",
       "    }\n",
       "\n",
       "    .dataframe thead th {\n",
       "        text-align: right;\n",
       "    }\n",
       "</style>\n",
       "<table border=\"1\" class=\"dataframe\">\n",
       "  <thead>\n",
       "    <tr style=\"text-align: right;\">\n",
       "      <th></th>\n",
       "      <th>Campaign Name</th>\n",
       "      <th>Date</th>\n",
       "      <th>Spend [USD]</th>\n",
       "      <th># of Impressions</th>\n",
       "      <th>Reach</th>\n",
       "      <th># of Website Clicks</th>\n",
       "      <th># of Searches</th>\n",
       "      <th># of View Content</th>\n",
       "      <th># of Add to Cart</th>\n",
       "      <th># of Purchase</th>\n",
       "    </tr>\n",
       "  </thead>\n",
       "  <tbody>\n",
       "    <tr>\n",
       "      <th>0</th>\n",
       "      <td>Test Campaign</td>\n",
       "      <td>1.08.2019</td>\n",
       "      <td>3008</td>\n",
       "      <td>39550</td>\n",
       "      <td>35820</td>\n",
       "      <td>3038</td>\n",
       "      <td>1946</td>\n",
       "      <td>1069</td>\n",
       "      <td>894</td>\n",
       "      <td>255</td>\n",
       "    </tr>\n",
       "    <tr>\n",
       "      <th>1</th>\n",
       "      <td>Test Campaign</td>\n",
       "      <td>2.08.2019</td>\n",
       "      <td>2542</td>\n",
       "      <td>100719</td>\n",
       "      <td>91236</td>\n",
       "      <td>4657</td>\n",
       "      <td>2359</td>\n",
       "      <td>1548</td>\n",
       "      <td>879</td>\n",
       "      <td>677</td>\n",
       "    </tr>\n",
       "    <tr>\n",
       "      <th>2</th>\n",
       "      <td>Test Campaign</td>\n",
       "      <td>3.08.2019</td>\n",
       "      <td>2365</td>\n",
       "      <td>70263</td>\n",
       "      <td>45198</td>\n",
       "      <td>7885</td>\n",
       "      <td>2572</td>\n",
       "      <td>2367</td>\n",
       "      <td>1268</td>\n",
       "      <td>578</td>\n",
       "    </tr>\n",
       "    <tr>\n",
       "      <th>3</th>\n",
       "      <td>Test Campaign</td>\n",
       "      <td>4.08.2019</td>\n",
       "      <td>2710</td>\n",
       "      <td>78451</td>\n",
       "      <td>25937</td>\n",
       "      <td>4216</td>\n",
       "      <td>2216</td>\n",
       "      <td>1437</td>\n",
       "      <td>566</td>\n",
       "      <td>340</td>\n",
       "    </tr>\n",
       "    <tr>\n",
       "      <th>4</th>\n",
       "      <td>Test Campaign</td>\n",
       "      <td>5.08.2019</td>\n",
       "      <td>2297</td>\n",
       "      <td>114295</td>\n",
       "      <td>95138</td>\n",
       "      <td>5863</td>\n",
       "      <td>2106</td>\n",
       "      <td>858</td>\n",
       "      <td>956</td>\n",
       "      <td>768</td>\n",
       "    </tr>\n",
       "  </tbody>\n",
       "</table>\n",
       "</div>"
      ],
      "text/plain": [
       "   Campaign Name       Date  Spend [USD]  # of Impressions  Reach  \\\n",
       "0  Test Campaign  1.08.2019         3008             39550  35820   \n",
       "1  Test Campaign  2.08.2019         2542            100719  91236   \n",
       "2  Test Campaign  3.08.2019         2365             70263  45198   \n",
       "3  Test Campaign  4.08.2019         2710             78451  25937   \n",
       "4  Test Campaign  5.08.2019         2297            114295  95138   \n",
       "\n",
       "   # of Website Clicks  # of Searches  # of View Content  # of Add to Cart  \\\n",
       "0                 3038           1946               1069               894   \n",
       "1                 4657           2359               1548               879   \n",
       "2                 7885           2572               2367              1268   \n",
       "3                 4216           2216               1437               566   \n",
       "4                 5863           2106                858               956   \n",
       "\n",
       "   # of Purchase  \n",
       "0            255  \n",
       "1            677  \n",
       "2            578  \n",
       "3            340  \n",
       "4            768  "
      ]
     },
     "execution_count": 8,
     "metadata": {},
     "output_type": "execute_result"
    }
   ],
   "source": [
    "test_grp.head()  \n"
   ]
  },
  {
   "cell_type": "code",
   "execution_count": 9,
   "metadata": {},
   "outputs": [
    {
     "data": {
      "text/html": [
       "<div>\n",
       "<style scoped>\n",
       "    .dataframe tbody tr th:only-of-type {\n",
       "        vertical-align: middle;\n",
       "    }\n",
       "\n",
       "    .dataframe tbody tr th {\n",
       "        vertical-align: top;\n",
       "    }\n",
       "\n",
       "    .dataframe thead th {\n",
       "        text-align: right;\n",
       "    }\n",
       "</style>\n",
       "<table border=\"1\" class=\"dataframe\">\n",
       "  <thead>\n",
       "    <tr style=\"text-align: right;\">\n",
       "      <th></th>\n",
       "      <th>Spend [USD]</th>\n",
       "      <th># of Impressions</th>\n",
       "      <th>Reach</th>\n",
       "      <th># of Website Clicks</th>\n",
       "      <th># of Searches</th>\n",
       "      <th># of View Content</th>\n",
       "      <th># of Add to Cart</th>\n",
       "      <th># of Purchase</th>\n",
       "    </tr>\n",
       "  </thead>\n",
       "  <tbody>\n",
       "    <tr>\n",
       "      <th>count</th>\n",
       "      <td>29.000000</td>\n",
       "      <td>29.000000</td>\n",
       "      <td>29.000000</td>\n",
       "      <td>29.000000</td>\n",
       "      <td>29.000000</td>\n",
       "      <td>29.000000</td>\n",
       "      <td>29.000000</td>\n",
       "      <td>29.000000</td>\n",
       "    </tr>\n",
       "    <tr>\n",
       "      <th>mean</th>\n",
       "      <td>2304.068966</td>\n",
       "      <td>109559.758621</td>\n",
       "      <td>88844.931034</td>\n",
       "      <td>5320.793103</td>\n",
       "      <td>2221.310345</td>\n",
       "      <td>1943.793103</td>\n",
       "      <td>1300.000000</td>\n",
       "      <td>522.793103</td>\n",
       "    </tr>\n",
       "    <tr>\n",
       "      <th>std</th>\n",
       "      <td>363.534822</td>\n",
       "      <td>21688.922908</td>\n",
       "      <td>21832.349595</td>\n",
       "      <td>1757.369003</td>\n",
       "      <td>866.089368</td>\n",
       "      <td>777.545469</td>\n",
       "      <td>407.457973</td>\n",
       "      <td>185.028642</td>\n",
       "    </tr>\n",
       "    <tr>\n",
       "      <th>min</th>\n",
       "      <td>1757.000000</td>\n",
       "      <td>71274.000000</td>\n",
       "      <td>42859.000000</td>\n",
       "      <td>2277.000000</td>\n",
       "      <td>1001.000000</td>\n",
       "      <td>848.000000</td>\n",
       "      <td>442.000000</td>\n",
       "      <td>222.000000</td>\n",
       "    </tr>\n",
       "    <tr>\n",
       "      <th>25%</th>\n",
       "      <td>1962.000000</td>\n",
       "      <td>92029.000000</td>\n",
       "      <td>74192.000000</td>\n",
       "      <td>4085.000000</td>\n",
       "      <td>1615.000000</td>\n",
       "      <td>1249.000000</td>\n",
       "      <td>930.000000</td>\n",
       "      <td>372.000000</td>\n",
       "    </tr>\n",
       "    <tr>\n",
       "      <th>50%</th>\n",
       "      <td>2319.000000</td>\n",
       "      <td>113430.000000</td>\n",
       "      <td>91579.000000</td>\n",
       "      <td>5224.000000</td>\n",
       "      <td>2390.000000</td>\n",
       "      <td>1984.000000</td>\n",
       "      <td>1339.000000</td>\n",
       "      <td>501.000000</td>\n",
       "    </tr>\n",
       "    <tr>\n",
       "      <th>75%</th>\n",
       "      <td>2544.000000</td>\n",
       "      <td>121332.000000</td>\n",
       "      <td>102479.000000</td>\n",
       "      <td>6628.000000</td>\n",
       "      <td>2711.000000</td>\n",
       "      <td>2421.000000</td>\n",
       "      <td>1641.000000</td>\n",
       "      <td>670.000000</td>\n",
       "    </tr>\n",
       "    <tr>\n",
       "      <th>max</th>\n",
       "      <td>3083.000000</td>\n",
       "      <td>145248.000000</td>\n",
       "      <td>127852.000000</td>\n",
       "      <td>8137.000000</td>\n",
       "      <td>4891.000000</td>\n",
       "      <td>4219.000000</td>\n",
       "      <td>1913.000000</td>\n",
       "      <td>800.000000</td>\n",
       "    </tr>\n",
       "  </tbody>\n",
       "</table>\n",
       "</div>"
      ],
      "text/plain": [
       "       Spend [USD]  # of Impressions          Reach  # of Website Clicks  \\\n",
       "count    29.000000         29.000000      29.000000            29.000000   \n",
       "mean   2304.068966     109559.758621   88844.931034          5320.793103   \n",
       "std     363.534822      21688.922908   21832.349595          1757.369003   \n",
       "min    1757.000000      71274.000000   42859.000000          2277.000000   \n",
       "25%    1962.000000      92029.000000   74192.000000          4085.000000   \n",
       "50%    2319.000000     113430.000000   91579.000000          5224.000000   \n",
       "75%    2544.000000     121332.000000  102479.000000          6628.000000   \n",
       "max    3083.000000     145248.000000  127852.000000          8137.000000   \n",
       "\n",
       "       # of Searches  # of View Content  # of Add to Cart  # of Purchase  \n",
       "count      29.000000          29.000000         29.000000      29.000000  \n",
       "mean     2221.310345        1943.793103       1300.000000     522.793103  \n",
       "std       866.089368         777.545469        407.457973     185.028642  \n",
       "min      1001.000000         848.000000        442.000000     222.000000  \n",
       "25%      1615.000000        1249.000000        930.000000     372.000000  \n",
       "50%      2390.000000        1984.000000       1339.000000     501.000000  \n",
       "75%      2711.000000        2421.000000       1641.000000     670.000000  \n",
       "max      4891.000000        4219.000000       1913.000000     800.000000  "
      ]
     },
     "execution_count": 9,
     "metadata": {},
     "output_type": "execute_result"
    }
   ],
   "source": [
    "#descriptive stats \n",
    "ctrl_grp.describe() \n"
   ]
  },
  {
   "cell_type": "code",
   "execution_count": 10,
   "metadata": {},
   "outputs": [
    {
     "data": {
      "text/html": [
       "<div>\n",
       "<style scoped>\n",
       "    .dataframe tbody tr th:only-of-type {\n",
       "        vertical-align: middle;\n",
       "    }\n",
       "\n",
       "    .dataframe tbody tr th {\n",
       "        vertical-align: top;\n",
       "    }\n",
       "\n",
       "    .dataframe thead th {\n",
       "        text-align: right;\n",
       "    }\n",
       "</style>\n",
       "<table border=\"1\" class=\"dataframe\">\n",
       "  <thead>\n",
       "    <tr style=\"text-align: right;\">\n",
       "      <th></th>\n",
       "      <th>Spend [USD]</th>\n",
       "      <th># of Impressions</th>\n",
       "      <th>Reach</th>\n",
       "      <th># of Website Clicks</th>\n",
       "      <th># of Searches</th>\n",
       "      <th># of View Content</th>\n",
       "      <th># of Add to Cart</th>\n",
       "      <th># of Purchase</th>\n",
       "    </tr>\n",
       "  </thead>\n",
       "  <tbody>\n",
       "    <tr>\n",
       "      <th>count</th>\n",
       "      <td>30.000000</td>\n",
       "      <td>30.000000</td>\n",
       "      <td>30.000000</td>\n",
       "      <td>30.000000</td>\n",
       "      <td>30.000000</td>\n",
       "      <td>30.000000</td>\n",
       "      <td>30.000000</td>\n",
       "      <td>30.000000</td>\n",
       "    </tr>\n",
       "    <tr>\n",
       "      <th>mean</th>\n",
       "      <td>2563.066667</td>\n",
       "      <td>74584.800000</td>\n",
       "      <td>53491.566667</td>\n",
       "      <td>6032.333333</td>\n",
       "      <td>2418.966667</td>\n",
       "      <td>1858.000000</td>\n",
       "      <td>881.533333</td>\n",
       "      <td>521.233333</td>\n",
       "    </tr>\n",
       "    <tr>\n",
       "      <th>std</th>\n",
       "      <td>348.687681</td>\n",
       "      <td>32121.377422</td>\n",
       "      <td>28795.775752</td>\n",
       "      <td>1708.567263</td>\n",
       "      <td>388.742312</td>\n",
       "      <td>597.654669</td>\n",
       "      <td>347.584248</td>\n",
       "      <td>211.047745</td>\n",
       "    </tr>\n",
       "    <tr>\n",
       "      <th>min</th>\n",
       "      <td>1968.000000</td>\n",
       "      <td>22521.000000</td>\n",
       "      <td>10598.000000</td>\n",
       "      <td>3038.000000</td>\n",
       "      <td>1854.000000</td>\n",
       "      <td>858.000000</td>\n",
       "      <td>278.000000</td>\n",
       "      <td>238.000000</td>\n",
       "    </tr>\n",
       "    <tr>\n",
       "      <th>25%</th>\n",
       "      <td>2324.500000</td>\n",
       "      <td>47541.250000</td>\n",
       "      <td>31516.250000</td>\n",
       "      <td>4407.000000</td>\n",
       "      <td>2043.000000</td>\n",
       "      <td>1320.000000</td>\n",
       "      <td>582.500000</td>\n",
       "      <td>298.000000</td>\n",
       "    </tr>\n",
       "    <tr>\n",
       "      <th>50%</th>\n",
       "      <td>2584.000000</td>\n",
       "      <td>68853.500000</td>\n",
       "      <td>44219.500000</td>\n",
       "      <td>6242.500000</td>\n",
       "      <td>2395.500000</td>\n",
       "      <td>1881.000000</td>\n",
       "      <td>974.000000</td>\n",
       "      <td>500.000000</td>\n",
       "    </tr>\n",
       "    <tr>\n",
       "      <th>75%</th>\n",
       "      <td>2836.250000</td>\n",
       "      <td>99500.000000</td>\n",
       "      <td>78778.750000</td>\n",
       "      <td>7604.750000</td>\n",
       "      <td>2801.250000</td>\n",
       "      <td>2412.000000</td>\n",
       "      <td>1148.500000</td>\n",
       "      <td>701.000000</td>\n",
       "    </tr>\n",
       "    <tr>\n",
       "      <th>max</th>\n",
       "      <td>3112.000000</td>\n",
       "      <td>133771.000000</td>\n",
       "      <td>109834.000000</td>\n",
       "      <td>8264.000000</td>\n",
       "      <td>2978.000000</td>\n",
       "      <td>2801.000000</td>\n",
       "      <td>1391.000000</td>\n",
       "      <td>890.000000</td>\n",
       "    </tr>\n",
       "  </tbody>\n",
       "</table>\n",
       "</div>"
      ],
      "text/plain": [
       "       Spend [USD]  # of Impressions          Reach  # of Website Clicks  \\\n",
       "count    30.000000         30.000000      30.000000            30.000000   \n",
       "mean   2563.066667      74584.800000   53491.566667          6032.333333   \n",
       "std     348.687681      32121.377422   28795.775752          1708.567263   \n",
       "min    1968.000000      22521.000000   10598.000000          3038.000000   \n",
       "25%    2324.500000      47541.250000   31516.250000          4407.000000   \n",
       "50%    2584.000000      68853.500000   44219.500000          6242.500000   \n",
       "75%    2836.250000      99500.000000   78778.750000          7604.750000   \n",
       "max    3112.000000     133771.000000  109834.000000          8264.000000   \n",
       "\n",
       "       # of Searches  # of View Content  # of Add to Cart  # of Purchase  \n",
       "count      30.000000          30.000000         30.000000      30.000000  \n",
       "mean     2418.966667        1858.000000        881.533333     521.233333  \n",
       "std       388.742312         597.654669        347.584248     211.047745  \n",
       "min      1854.000000         858.000000        278.000000     238.000000  \n",
       "25%      2043.000000        1320.000000        582.500000     298.000000  \n",
       "50%      2395.500000        1881.000000        974.000000     500.000000  \n",
       "75%      2801.250000        2412.000000       1148.500000     701.000000  \n",
       "max      2978.000000        2801.000000       1391.000000     890.000000  "
      ]
     },
     "execution_count": 10,
     "metadata": {},
     "output_type": "execute_result"
    }
   ],
   "source": [
    "test_grp.describe()  \n"
   ]
  },
  {
   "cell_type": "code",
   "execution_count": 10,
   "metadata": {},
   "outputs": [],
   "source": [
    "#KPIs\n",
    "ctrl_grp['CTR'] = ctrl_grp['# of Website Clicks'] / ctrl_grp['# of Impressions']   \n",
    "ctrl_grp['CPC'] = ctrl_grp['Spend [USD]'] / ctrl_grp['# of Website Clicks']  \n",
    "ctrl_grp['CR'] = ctrl_grp['# of Purchase'] / ctrl_grp['# of Website Clicks']   \n",
    "ctrl_grp['CPA'] = ctrl_grp['Spend [USD]'] / ctrl_grp['# of Purchase']    \n",
    "ctrl_grp['CPA'] = ctrl_grp['Spend [USD]'] / ctrl_grp['# of Purchase']\n",
    "ctrl_grp['Click_to_Search_Ratio'] = ctrl_grp['# of Searches'] / ctrl_grp['# of Website Clicks']   \n",
    "ctrl_grp['Search_to_View_Content_Ratio'] = ctrl_grp['# of View Content'] / ctrl_grp['# of Searches']    \n",
    "ctrl_grp['View_Content_to_Add_to_Cart_Ratio'] = ctrl_grp['# of Add to Cart'] / ctrl_grp['# of View Content']   \n",
    "ctrl_grp['Add_to_Cart_to_Purchase_Ratio'] = ctrl_grp['# of Purchase'] / ctrl_grp['# of Add to Cart']\n",
    "\n",
    "test_grp['CTR'] = test_grp['# of Website Clicks'] / test_grp['# of Impressions']   \n",
    "test_grp['CPC'] = test_grp['Spend [USD]'] / test_grp['# of Website Clicks']   \n",
    "test_grp['CR'] = test_grp['# of Purchase'] / test_grp['# of Website Clicks']   \n",
    "test_grp['CPA'] = test_grp['Spend [USD]'] / test_grp['# of Purchase']    \n",
    "test_grp['Click_to_Search_Ratio'] = test_grp['# of Searches'] / test_grp['# of Website Clicks']   \n",
    "test_grp['Search_to_View_Content_Ratio'] = test_grp['# of View Content'] / test_grp['# of Searches']    \n",
    "test_grp['View_Content_to_Add_to_Cart_Ratio'] = test_grp['# of Add to Cart'] / test_grp['# of View Content']   \n",
    "test_grp['Add_to_Cart_to_Purchase_Ratio'] = test_grp['# of Purchase'] / test_grp['# of Add to Cart']\n",
    "\n"
   ]
  },
  {
   "cell_type": "code",
   "execution_count": 13,
   "metadata": {},
   "outputs": [
    {
     "data": {
      "text/html": [
       "<div>\n",
       "<style scoped>\n",
       "    .dataframe tbody tr th:only-of-type {\n",
       "        vertical-align: middle;\n",
       "    }\n",
       "\n",
       "    .dataframe tbody tr th {\n",
       "        vertical-align: top;\n",
       "    }\n",
       "\n",
       "    .dataframe thead th {\n",
       "        text-align: right;\n",
       "    }\n",
       "</style>\n",
       "<table border=\"1\" class=\"dataframe\">\n",
       "  <thead>\n",
       "    <tr style=\"text-align: right;\">\n",
       "      <th></th>\n",
       "      <th>Campaign Name</th>\n",
       "      <th>Date</th>\n",
       "      <th>Spend [USD]</th>\n",
       "      <th># of Impressions</th>\n",
       "      <th>Reach</th>\n",
       "      <th># of Website Clicks</th>\n",
       "      <th># of Searches</th>\n",
       "      <th># of View Content</th>\n",
       "      <th># of Add to Cart</th>\n",
       "      <th># of Purchase</th>\n",
       "      <th>CTR</th>\n",
       "      <th>CPC</th>\n",
       "      <th>CR</th>\n",
       "      <th>CPA</th>\n",
       "      <th>Click_to_Search_Ratio</th>\n",
       "      <th>Search_to_View_Content_Ratio</th>\n",
       "      <th>View_Content_to_Add_to_Cart_Ratio</th>\n",
       "      <th>Add_to_Cart_to_Purchase_Ratio</th>\n",
       "    </tr>\n",
       "  </thead>\n",
       "  <tbody>\n",
       "    <tr>\n",
       "      <th>0</th>\n",
       "      <td>Control Campaign</td>\n",
       "      <td>1.08.2019</td>\n",
       "      <td>2280</td>\n",
       "      <td>82702.0</td>\n",
       "      <td>56930.0</td>\n",
       "      <td>7016.0</td>\n",
       "      <td>2290.0</td>\n",
       "      <td>2159.0</td>\n",
       "      <td>1819.0</td>\n",
       "      <td>618.0</td>\n",
       "      <td>0.084835</td>\n",
       "      <td>0.324971</td>\n",
       "      <td>0.088084</td>\n",
       "      <td>3.689320</td>\n",
       "      <td>0.326397</td>\n",
       "      <td>0.942795</td>\n",
       "      <td>0.842520</td>\n",
       "      <td>0.339747</td>\n",
       "    </tr>\n",
       "    <tr>\n",
       "      <th>1</th>\n",
       "      <td>Control Campaign</td>\n",
       "      <td>2.08.2019</td>\n",
       "      <td>1757</td>\n",
       "      <td>121040.0</td>\n",
       "      <td>102513.0</td>\n",
       "      <td>8110.0</td>\n",
       "      <td>2033.0</td>\n",
       "      <td>1841.0</td>\n",
       "      <td>1219.0</td>\n",
       "      <td>511.0</td>\n",
       "      <td>0.067003</td>\n",
       "      <td>0.216646</td>\n",
       "      <td>0.063009</td>\n",
       "      <td>3.438356</td>\n",
       "      <td>0.250678</td>\n",
       "      <td>0.905558</td>\n",
       "      <td>0.662140</td>\n",
       "      <td>0.419196</td>\n",
       "    </tr>\n",
       "    <tr>\n",
       "      <th>2</th>\n",
       "      <td>Control Campaign</td>\n",
       "      <td>3.08.2019</td>\n",
       "      <td>2343</td>\n",
       "      <td>131711.0</td>\n",
       "      <td>110862.0</td>\n",
       "      <td>6508.0</td>\n",
       "      <td>1737.0</td>\n",
       "      <td>1549.0</td>\n",
       "      <td>1134.0</td>\n",
       "      <td>372.0</td>\n",
       "      <td>0.049411</td>\n",
       "      <td>0.360018</td>\n",
       "      <td>0.057160</td>\n",
       "      <td>6.298387</td>\n",
       "      <td>0.266902</td>\n",
       "      <td>0.891767</td>\n",
       "      <td>0.732085</td>\n",
       "      <td>0.328042</td>\n",
       "    </tr>\n",
       "    <tr>\n",
       "      <th>3</th>\n",
       "      <td>Control Campaign</td>\n",
       "      <td>4.08.2019</td>\n",
       "      <td>1940</td>\n",
       "      <td>72878.0</td>\n",
       "      <td>61235.0</td>\n",
       "      <td>3065.0</td>\n",
       "      <td>1042.0</td>\n",
       "      <td>982.0</td>\n",
       "      <td>1183.0</td>\n",
       "      <td>340.0</td>\n",
       "      <td>0.042057</td>\n",
       "      <td>0.632953</td>\n",
       "      <td>0.110930</td>\n",
       "      <td>5.705882</td>\n",
       "      <td>0.339967</td>\n",
       "      <td>0.942418</td>\n",
       "      <td>1.204684</td>\n",
       "      <td>0.287405</td>\n",
       "    </tr>\n",
       "    <tr>\n",
       "      <th>5</th>\n",
       "      <td>Control Campaign</td>\n",
       "      <td>6.08.2019</td>\n",
       "      <td>3083</td>\n",
       "      <td>109076.0</td>\n",
       "      <td>87998.0</td>\n",
       "      <td>4028.0</td>\n",
       "      <td>1709.0</td>\n",
       "      <td>1249.0</td>\n",
       "      <td>784.0</td>\n",
       "      <td>764.0</td>\n",
       "      <td>0.036928</td>\n",
       "      <td>0.765392</td>\n",
       "      <td>0.189672</td>\n",
       "      <td>4.035340</td>\n",
       "      <td>0.424280</td>\n",
       "      <td>0.730837</td>\n",
       "      <td>0.627702</td>\n",
       "      <td>0.974490</td>\n",
       "    </tr>\n",
       "  </tbody>\n",
       "</table>\n",
       "</div>"
      ],
      "text/plain": [
       "      Campaign Name       Date  Spend [USD]  # of Impressions     Reach  \\\n",
       "0  Control Campaign  1.08.2019         2280           82702.0   56930.0   \n",
       "1  Control Campaign  2.08.2019         1757          121040.0  102513.0   \n",
       "2  Control Campaign  3.08.2019         2343          131711.0  110862.0   \n",
       "3  Control Campaign  4.08.2019         1940           72878.0   61235.0   \n",
       "5  Control Campaign  6.08.2019         3083          109076.0   87998.0   \n",
       "\n",
       "   # of Website Clicks  # of Searches  # of View Content  # of Add to Cart  \\\n",
       "0               7016.0         2290.0             2159.0            1819.0   \n",
       "1               8110.0         2033.0             1841.0            1219.0   \n",
       "2               6508.0         1737.0             1549.0            1134.0   \n",
       "3               3065.0         1042.0              982.0            1183.0   \n",
       "5               4028.0         1709.0             1249.0             784.0   \n",
       "\n",
       "   # of Purchase       CTR       CPC        CR       CPA  \\\n",
       "0          618.0  0.084835  0.324971  0.088084  3.689320   \n",
       "1          511.0  0.067003  0.216646  0.063009  3.438356   \n",
       "2          372.0  0.049411  0.360018  0.057160  6.298387   \n",
       "3          340.0  0.042057  0.632953  0.110930  5.705882   \n",
       "5          764.0  0.036928  0.765392  0.189672  4.035340   \n",
       "\n",
       "   Click_to_Search_Ratio  Search_to_View_Content_Ratio  \\\n",
       "0               0.326397                      0.942795   \n",
       "1               0.250678                      0.905558   \n",
       "2               0.266902                      0.891767   \n",
       "3               0.339967                      0.942418   \n",
       "5               0.424280                      0.730837   \n",
       "\n",
       "   View_Content_to_Add_to_Cart_Ratio  Add_to_Cart_to_Purchase_Ratio  \n",
       "0                           0.842520                       0.339747  \n",
       "1                           0.662140                       0.419196  \n",
       "2                           0.732085                       0.328042  \n",
       "3                           1.204684                       0.287405  \n",
       "5                           0.627702                       0.974490  "
      ]
     },
     "execution_count": 13,
     "metadata": {},
     "output_type": "execute_result"
    }
   ],
   "source": [
    "combined_data = pd.concat([ctrl_grp,test_grp]) \n",
    "combined_data.head()   \n"
   ]
  },
  {
   "cell_type": "code",
   "execution_count": 14,
   "metadata": {},
   "outputs": [
    {
     "data": {
      "text/html": [
       "<div>\n",
       "<style scoped>\n",
       "    .dataframe tbody tr th:only-of-type {\n",
       "        vertical-align: middle;\n",
       "    }\n",
       "\n",
       "    .dataframe tbody tr th {\n",
       "        vertical-align: top;\n",
       "    }\n",
       "\n",
       "    .dataframe thead th {\n",
       "        text-align: right;\n",
       "    }\n",
       "</style>\n",
       "<table border=\"1\" class=\"dataframe\">\n",
       "  <thead>\n",
       "    <tr style=\"text-align: right;\">\n",
       "      <th></th>\n",
       "      <th>Campaign Name</th>\n",
       "      <th>Date</th>\n",
       "      <th>Spend [USD]</th>\n",
       "      <th># of Impressions</th>\n",
       "      <th>Reach</th>\n",
       "      <th># of Website Clicks</th>\n",
       "      <th># of Searches</th>\n",
       "      <th># of View Content</th>\n",
       "      <th># of Add to Cart</th>\n",
       "      <th># of Purchase</th>\n",
       "      <th>CTR</th>\n",
       "      <th>CPC</th>\n",
       "      <th>CR</th>\n",
       "      <th>CPA</th>\n",
       "      <th>Click_to_Search_Ratio</th>\n",
       "      <th>Search_to_View_Content_Ratio</th>\n",
       "      <th>View_Content_to_Add_to_Cart_Ratio</th>\n",
       "      <th>Add_to_Cart_to_Purchase_Ratio</th>\n",
       "    </tr>\n",
       "  </thead>\n",
       "  <tbody>\n",
       "    <tr>\n",
       "      <th>0</th>\n",
       "      <td>Test Campaign</td>\n",
       "      <td>1.08.2019</td>\n",
       "      <td>3008</td>\n",
       "      <td>39550.0</td>\n",
       "      <td>35820.0</td>\n",
       "      <td>3038.0</td>\n",
       "      <td>1946.0</td>\n",
       "      <td>1069.0</td>\n",
       "      <td>894.0</td>\n",
       "      <td>255.0</td>\n",
       "      <td>0.076814</td>\n",
       "      <td>0.990125</td>\n",
       "      <td>0.083937</td>\n",
       "      <td>11.796078</td>\n",
       "      <td>0.640553</td>\n",
       "      <td>0.549332</td>\n",
       "      <td>0.836296</td>\n",
       "      <td>0.285235</td>\n",
       "    </tr>\n",
       "    <tr>\n",
       "      <th>1</th>\n",
       "      <td>Test Campaign</td>\n",
       "      <td>2.08.2019</td>\n",
       "      <td>2542</td>\n",
       "      <td>100719.0</td>\n",
       "      <td>91236.0</td>\n",
       "      <td>4657.0</td>\n",
       "      <td>2359.0</td>\n",
       "      <td>1548.0</td>\n",
       "      <td>879.0</td>\n",
       "      <td>677.0</td>\n",
       "      <td>0.046238</td>\n",
       "      <td>0.545845</td>\n",
       "      <td>0.145373</td>\n",
       "      <td>3.754801</td>\n",
       "      <td>0.506549</td>\n",
       "      <td>0.656210</td>\n",
       "      <td>0.567829</td>\n",
       "      <td>0.770193</td>\n",
       "    </tr>\n",
       "    <tr>\n",
       "      <th>2</th>\n",
       "      <td>Test Campaign</td>\n",
       "      <td>3.08.2019</td>\n",
       "      <td>2365</td>\n",
       "      <td>70263.0</td>\n",
       "      <td>45198.0</td>\n",
       "      <td>7885.0</td>\n",
       "      <td>2572.0</td>\n",
       "      <td>2367.0</td>\n",
       "      <td>1268.0</td>\n",
       "      <td>578.0</td>\n",
       "      <td>0.112221</td>\n",
       "      <td>0.299937</td>\n",
       "      <td>0.073304</td>\n",
       "      <td>4.091696</td>\n",
       "      <td>0.326189</td>\n",
       "      <td>0.920295</td>\n",
       "      <td>0.535699</td>\n",
       "      <td>0.455836</td>\n",
       "    </tr>\n",
       "    <tr>\n",
       "      <th>3</th>\n",
       "      <td>Test Campaign</td>\n",
       "      <td>4.08.2019</td>\n",
       "      <td>2710</td>\n",
       "      <td>78451.0</td>\n",
       "      <td>25937.0</td>\n",
       "      <td>4216.0</td>\n",
       "      <td>2216.0</td>\n",
       "      <td>1437.0</td>\n",
       "      <td>566.0</td>\n",
       "      <td>340.0</td>\n",
       "      <td>0.053741</td>\n",
       "      <td>0.642789</td>\n",
       "      <td>0.080645</td>\n",
       "      <td>7.970588</td>\n",
       "      <td>0.525617</td>\n",
       "      <td>0.648466</td>\n",
       "      <td>0.393876</td>\n",
       "      <td>0.600707</td>\n",
       "    </tr>\n",
       "    <tr>\n",
       "      <th>4</th>\n",
       "      <td>Test Campaign</td>\n",
       "      <td>5.08.2019</td>\n",
       "      <td>2297</td>\n",
       "      <td>114295.0</td>\n",
       "      <td>95138.0</td>\n",
       "      <td>5863.0</td>\n",
       "      <td>2106.0</td>\n",
       "      <td>858.0</td>\n",
       "      <td>956.0</td>\n",
       "      <td>768.0</td>\n",
       "      <td>0.051297</td>\n",
       "      <td>0.391779</td>\n",
       "      <td>0.130991</td>\n",
       "      <td>2.990885</td>\n",
       "      <td>0.359202</td>\n",
       "      <td>0.407407</td>\n",
       "      <td>1.114219</td>\n",
       "      <td>0.803347</td>\n",
       "    </tr>\n",
       "  </tbody>\n",
       "</table>\n",
       "</div>"
      ],
      "text/plain": [
       "   Campaign Name       Date  Spend [USD]  # of Impressions    Reach  \\\n",
       "0  Test Campaign  1.08.2019         3008           39550.0  35820.0   \n",
       "1  Test Campaign  2.08.2019         2542          100719.0  91236.0   \n",
       "2  Test Campaign  3.08.2019         2365           70263.0  45198.0   \n",
       "3  Test Campaign  4.08.2019         2710           78451.0  25937.0   \n",
       "4  Test Campaign  5.08.2019         2297          114295.0  95138.0   \n",
       "\n",
       "   # of Website Clicks  # of Searches  # of View Content  # of Add to Cart  \\\n",
       "0               3038.0         1946.0             1069.0             894.0   \n",
       "1               4657.0         2359.0             1548.0             879.0   \n",
       "2               7885.0         2572.0             2367.0            1268.0   \n",
       "3               4216.0         2216.0             1437.0             566.0   \n",
       "4               5863.0         2106.0              858.0             956.0   \n",
       "\n",
       "   # of Purchase       CTR       CPC        CR        CPA  \\\n",
       "0          255.0  0.076814  0.990125  0.083937  11.796078   \n",
       "1          677.0  0.046238  0.545845  0.145373   3.754801   \n",
       "2          578.0  0.112221  0.299937  0.073304   4.091696   \n",
       "3          340.0  0.053741  0.642789  0.080645   7.970588   \n",
       "4          768.0  0.051297  0.391779  0.130991   2.990885   \n",
       "\n",
       "   Click_to_Search_Ratio  Search_to_View_Content_Ratio  \\\n",
       "0               0.640553                      0.549332   \n",
       "1               0.506549                      0.656210   \n",
       "2               0.326189                      0.920295   \n",
       "3               0.525617                      0.648466   \n",
       "4               0.359202                      0.407407   \n",
       "\n",
       "   View_Content_to_Add_to_Cart_Ratio  Add_to_Cart_to_Purchase_Ratio  \n",
       "0                           0.836296                       0.285235  \n",
       "1                           0.567829                       0.770193  \n",
       "2                           0.535699                       0.455836  \n",
       "3                           0.393876                       0.600707  \n",
       "4                           1.114219                       0.803347  "
      ]
     },
     "execution_count": 14,
     "metadata": {},
     "output_type": "execute_result"
    }
   ],
   "source": [
    "combined_data[combined_data['Campaign Name'] == 'Test Campaign'].head()"
   ]
  },
  {
   "cell_type": "code",
   "execution_count": 28,
   "metadata": {},
   "outputs": [
    {
     "data": {
      "image/png": "[encoded data removed]",
      "text/plain": [
       "<Figure size 1000x1000 with 8 Axes>"
      ]
     },
     "metadata": {},
     "output_type": "display_data"
    }
   ],
   "source": [
    "#spending by group\n",
    "fig,ax = plt.subplots(4,2,figsize=(10,10))\n",
    "sns.boxplot(x='Campaign Name',y='Spend [USD]',data=combined_data,ax=ax[0,0],hue='Campaign Name') \n",
    "sns.boxplot(x='Campaign Name',y='# of Impressions',data=combined_data,ax=ax[0,1],hue='Campaign Name') \n",
    "sns.boxplot(x='Campaign Name',y='Reach',data=combined_data,ax=ax[1,0],hue='Campaign Name')  \n",
    "sns.boxplot(x='Campaign Name',y='# of Website Clicks',data=combined_data,ax=ax[1,1],hue='Campaign Name')  \n",
    "sns.boxplot(x='Campaign Name',y='# of Searches',data=combined_data,ax=ax[2,0],hue='Campaign Name')  \n",
    "sns.boxplot(x='Campaign Name',y='# of View Content',data=combined_data,ax=ax[2,1],hue='Campaign Name')  \n",
    "sns.boxplot(x='Campaign Name',y='# of Add to Cart',data=combined_data,ax=ax[3,0],hue='Campaign Name')  \n",
    "sns.boxplot(x='Campaign Name',y='# of Purchase',data=combined_data,ax=ax[3,1],hue='Campaign Name')  \n",
    "ax[0,1].set_ylabel('Impressions') \n",
    "ax[1,0].set_ylabel('Reach') \n",
    "ax[1,1].set_ylabel('Website Clicks') \n",
    "ax[2,0].set_ylabel('Searches') \n",
    "ax[2,1].set_ylabel('View Content') \n",
    "ax[3,0].set_ylabel('Add to Cart') \n",
    "ax[3,1].set_ylabel('Purchase') \n",
    "plt.tight_layout() \n"
   ]
  },
  {
   "cell_type": "code",
   "execution_count": 31,
   "metadata": {},
   "outputs": [
    {
     "data": {
      "image/png": "[encoded data removed]",
      "text/plain": [
       "<Figure size 1000x1000 with 8 Axes>"
      ]
     },
     "metadata": {},
     "output_type": "display_data"
    }
   ],
   "source": [
    "#KPIs by group \n",
    "fig,ax = plt.subplots(4,2,figsize=(10,10))\n",
    "sns.barplot(x='Campaign Name',y='CTR',data=combined_data,ax=ax[0,0],hue='Campaign Name') \n",
    "sns.barplot(x='Campaign Name',y='CPC',data=combined_data,ax=ax[0,1],hue='Campaign Name') \n",
    "sns.barplot(x='Campaign Name',y='CR',data=combined_data,ax=ax[1,0],hue='Campaign Name')  \n",
    "sns.barplot(x='Campaign Name',y='CPA',data=combined_data,ax=ax[1,1],hue='Campaign Name')   \n",
    "sns.barplot(x='Campaign Name',y='Click_to_Search_Ratio',data=combined_data,ax=ax[2,0],hue='Campaign Name')  \n",
    "sns.barplot(x='Campaign Name',y='Search_to_View_Content_Ratio',data=combined_data,ax=ax[2,1],hue='Campaign Name')  \n",
    "sns.barplot(x='Campaign Name',y='View_Content_to_Add_to_Cart_Ratio',data=combined_data,ax=ax[3,0],hue='Campaign Name')  \n",
    "sns.barplot(x='Campaign Name',y='Add_to_Cart_to_Purchase_Ratio',data=combined_data,ax=ax[3,1],hue='Campaign Name')\n",
    "ax[0,0].set_ylabel('CTR') \n",
    "ax[0,1].set_ylabel('CPC') \n",
    "ax[1,0].set_ylabel('CR') \n",
    "ax[1,1].set_ylabel('CPA') \n",
    "ax[2,0].set_ylabel('Click_to_Search_Ratio') \n",
    "ax[2,1].set_ylabel('Search_to_View_Content_Ratio') \n",
    "ax[3,0].set_ylabel('View_Content_to_Add_to_Cart_Ratio') \n",
    "ax[3,1].set_ylabel('Add_to_Cart_to_Purchase_Ratio') \n",
    "#remove x-axis labels\n",
    "ax[0,0].set_xlabel('') \n",
    "ax[0,1].set_xlabel('') \n",
    "ax[1,0].set_xlabel('') \n",
    "ax[1,1].set_xlabel('') \n",
    "ax[2,0].set_xlabel('') \n",
    "ax[2,1].set_xlabel('') \n",
    "plt.tight_layout() \n",
    "plt.show();"
   ]
  },
  {
   "cell_type": "code",
   "execution_count": 40,
   "metadata": {},
   "outputs": [
    {
     "name": "stdout",
     "output_type": "stream",
     "text": [
      "Control CR: 0.0983\n",
      "Test CR: 0.0864\n",
      "Z-statistic: 11.8387\n",
      "P-value: 0.0000\n"
     ]
    }
   ],
   "source": [
    "#statistical analysis CR: conversion rate  for purchases  \n",
    "from statsmodels.stats.proportion import proportions_ztest  \n",
    "\n",
    "# Get counts for successes (purchases) and trials (website clicks)\n",
    "control_purchases = ctrl_grp['# of Purchase'].sum()\n",
    "control_clicks = ctrl_grp['# of Website Clicks'].sum()\n",
    "test_purchases = test_grp['# of Purchase'].sum()\n",
    "test_clicks = test_grp['# of Website Clicks'].sum()\n",
    "\n",
    "# Perform the z-test with counts and sample sizes\n",
    "successes = [control_purchases, test_purchases]\n",
    "nobs = [control_clicks, test_clicks]\n",
    "\n",
    "z_stat, p_value = proportions_ztest(count=successes, nobs=nobs)\n",
    "\n",
    "print(f\"Control CR: {control_purchases/control_clicks:.4f}\")\n",
    "print(f\"Test CR: {test_purchases/test_clicks:.4f}\")\n",
    "print(f\"Z-statistic: {z_stat:.4f}\")\n",
    "print(f\"P-value: {p_value:.4f}\")"
   ]
  },
  {
   "cell_type": "code",
   "execution_count": 43,
   "metadata": {},
   "outputs": [
    {
     "data": {
      "text/html": [
       "<div>\n",
       "<style scoped>\n",
       "    .dataframe tbody tr th:only-of-type {\n",
       "        vertical-align: middle;\n",
       "    }\n",
       "\n",
       "    .dataframe tbody tr th {\n",
       "        vertical-align: top;\n",
       "    }\n",
       "\n",
       "    .dataframe thead th {\n",
       "        text-align: right;\n",
       "    }\n",
       "</style>\n",
       "<table border=\"1\" class=\"dataframe\">\n",
       "  <thead>\n",
       "    <tr style=\"text-align: right;\">\n",
       "      <th></th>\n",
       "      <th>Campaign Name</th>\n",
       "      <th>Date</th>\n",
       "      <th>Spend [USD]</th>\n",
       "      <th># of Impressions</th>\n",
       "      <th>Reach</th>\n",
       "      <th># of Website Clicks</th>\n",
       "      <th># of Searches</th>\n",
       "      <th># of View Content</th>\n",
       "      <th># of Add to Cart</th>\n",
       "      <th># of Purchase</th>\n",
       "      <th>CTR</th>\n",
       "      <th>CPC</th>\n",
       "      <th>CR</th>\n",
       "      <th>CPA</th>\n",
       "      <th>Click_to_Search_Ratio</th>\n",
       "      <th>Search_to_View_Content_Ratio</th>\n",
       "      <th>View_Content_to_Add_to_Cart_Ratio</th>\n",
       "      <th>Add_to_Cart_to_Purchase_Ratio</th>\n",
       "      <th>Year</th>\n",
       "    </tr>\n",
       "  </thead>\n",
       "  <tbody>\n",
       "    <tr>\n",
       "      <th>0</th>\n",
       "      <td>Control Campaign</td>\n",
       "      <td>1.08.2019</td>\n",
       "      <td>2280</td>\n",
       "      <td>82702.0</td>\n",
       "      <td>56930.0</td>\n",
       "      <td>7016.0</td>\n",
       "      <td>2290.0</td>\n",
       "      <td>2159.0</td>\n",
       "      <td>1819.0</td>\n",
       "      <td>618.0</td>\n",
       "      <td>0.084835</td>\n",
       "      <td>0.324971</td>\n",
       "      <td>0.088084</td>\n",
       "      <td>3.689320</td>\n",
       "      <td>0.326397</td>\n",
       "      <td>0.942795</td>\n",
       "      <td>0.842520</td>\n",
       "      <td>0.339747</td>\n",
       "      <td>2019</td>\n",
       "    </tr>\n",
       "    <tr>\n",
       "      <th>1</th>\n",
       "      <td>Control Campaign</td>\n",
       "      <td>2.08.2019</td>\n",
       "      <td>1757</td>\n",
       "      <td>121040.0</td>\n",
       "      <td>102513.0</td>\n",
       "      <td>8110.0</td>\n",
       "      <td>2033.0</td>\n",
       "      <td>1841.0</td>\n",
       "      <td>1219.0</td>\n",
       "      <td>511.0</td>\n",
       "      <td>0.067003</td>\n",
       "      <td>0.216646</td>\n",
       "      <td>0.063009</td>\n",
       "      <td>3.438356</td>\n",
       "      <td>0.250678</td>\n",
       "      <td>0.905558</td>\n",
       "      <td>0.662140</td>\n",
       "      <td>0.419196</td>\n",
       "      <td>2019</td>\n",
       "    </tr>\n",
       "    <tr>\n",
       "      <th>2</th>\n",
       "      <td>Control Campaign</td>\n",
       "      <td>3.08.2019</td>\n",
       "      <td>2343</td>\n",
       "      <td>131711.0</td>\n",
       "      <td>110862.0</td>\n",
       "      <td>6508.0</td>\n",
       "      <td>1737.0</td>\n",
       "      <td>1549.0</td>\n",
       "      <td>1134.0</td>\n",
       "      <td>372.0</td>\n",
       "      <td>0.049411</td>\n",
       "      <td>0.360018</td>\n",
       "      <td>0.057160</td>\n",
       "      <td>6.298387</td>\n",
       "      <td>0.266902</td>\n",
       "      <td>0.891767</td>\n",
       "      <td>0.732085</td>\n",
       "      <td>0.328042</td>\n",
       "      <td>2019</td>\n",
       "    </tr>\n",
       "    <tr>\n",
       "      <th>3</th>\n",
       "      <td>Control Campaign</td>\n",
       "      <td>4.08.2019</td>\n",
       "      <td>1940</td>\n",
       "      <td>72878.0</td>\n",
       "      <td>61235.0</td>\n",
       "      <td>3065.0</td>\n",
       "      <td>1042.0</td>\n",
       "      <td>982.0</td>\n",
       "      <td>1183.0</td>\n",
       "      <td>340.0</td>\n",
       "      <td>0.042057</td>\n",
       "      <td>0.632953</td>\n",
       "      <td>0.110930</td>\n",
       "      <td>5.705882</td>\n",
       "      <td>0.339967</td>\n",
       "      <td>0.942418</td>\n",
       "      <td>1.204684</td>\n",
       "      <td>0.287405</td>\n",
       "      <td>2019</td>\n",
       "    </tr>\n",
       "    <tr>\n",
       "      <th>5</th>\n",
       "      <td>Control Campaign</td>\n",
       "      <td>6.08.2019</td>\n",
       "      <td>3083</td>\n",
       "      <td>109076.0</td>\n",
       "      <td>87998.0</td>\n",
       "      <td>4028.0</td>\n",
       "      <td>1709.0</td>\n",
       "      <td>1249.0</td>\n",
       "      <td>784.0</td>\n",
       "      <td>764.0</td>\n",
       "      <td>0.036928</td>\n",
       "      <td>0.765392</td>\n",
       "      <td>0.189672</td>\n",
       "      <td>4.035340</td>\n",
       "      <td>0.424280</td>\n",
       "      <td>0.730837</td>\n",
       "      <td>0.627702</td>\n",
       "      <td>0.974490</td>\n",
       "      <td>2019</td>\n",
       "    </tr>\n",
       "  </tbody>\n",
       "</table>\n",
       "</div>"
      ],
      "text/plain": [
       "      Campaign Name       Date  Spend [USD]  # of Impressions     Reach  \\\n",
       "0  Control Campaign  1.08.2019         2280           82702.0   56930.0   \n",
       "1  Control Campaign  2.08.2019         1757          121040.0  102513.0   \n",
       "2  Control Campaign  3.08.2019         2343          131711.0  110862.0   \n",
       "3  Control Campaign  4.08.2019         1940           72878.0   61235.0   \n",
       "5  Control Campaign  6.08.2019         3083          109076.0   87998.0   \n",
       "\n",
       "   # of Website Clicks  # of Searches  # of View Content  # of Add to Cart  \\\n",
       "0               7016.0         2290.0             2159.0            1819.0   \n",
       "1               8110.0         2033.0             1841.0            1219.0   \n",
       "2               6508.0         1737.0             1549.0            1134.0   \n",
       "3               3065.0         1042.0              982.0            1183.0   \n",
       "5               4028.0         1709.0             1249.0             784.0   \n",
       "\n",
       "   # of Purchase       CTR       CPC        CR       CPA  \\\n",
       "0          618.0  0.084835  0.324971  0.088084  3.689320   \n",
       "1          511.0  0.067003  0.216646  0.063009  3.438356   \n",
       "2          372.0  0.049411  0.360018  0.057160  6.298387   \n",
       "3          340.0  0.042057  0.632953  0.110930  5.705882   \n",
       "5          764.0  0.036928  0.765392  0.189672  4.035340   \n",
       "\n",
       "   Click_to_Search_Ratio  Search_to_View_Content_Ratio  \\\n",
       "0               0.326397                      0.942795   \n",
       "1               0.250678                      0.905558   \n",
       "2               0.266902                      0.891767   \n",
       "3               0.339967                      0.942418   \n",
       "5               0.424280                      0.730837   \n",
       "\n",
       "   View_Content_to_Add_to_Cart_Ratio  Add_to_Cart_to_Purchase_Ratio  Year  \n",
       "0                           0.842520                       0.339747  2019  \n",
       "1                           0.662140                       0.419196  2019  \n",
       "2                           0.732085                       0.328042  2019  \n",
       "3                           1.204684                       0.287405  2019  \n",
       "5                           0.627702                       0.974490  2019  "
      ]
     },
     "execution_count": 43,
     "metadata": {},
     "output_type": "execute_result"
    }
   ],
   "source": [
    "combined_data['Year'] = pd.DatetimeIndex(combined_data['Date']).year\n",
    "combined_data.head(5)\n"
   ]
  },
  {
   "cell_type": "code",
   "execution_count": 45,
   "metadata": {},
   "outputs": [],
   "source": [
    "combined_data['Month'] = pd.DatetimeIndex(combined_data['Date']).month\n",
    "combined_data['Day'] = pd.DatetimeIndex(combined_data['Date']).day \n"
   ]
  },
  {
   "cell_type": "code",
   "execution_count": 46,
   "metadata": {},
   "outputs": [
    {
     "data": {
      "text/html": [
       "<div>\n",
       "<style scoped>\n",
       "    .dataframe tbody tr th:only-of-type {\n",
       "        vertical-align: middle;\n",
       "    }\n",
       "\n",
       "    .dataframe tbody tr th {\n",
       "        vertical-align: top;\n",
       "    }\n",
       "\n",
       "    .dataframe thead th {\n",
       "        text-align: right;\n",
       "    }\n",
       "</style>\n",
       "<table border=\"1\" class=\"dataframe\">\n",
       "  <thead>\n",
       "    <tr style=\"text-align: right;\">\n",
       "      <th></th>\n",
       "      <th>Campaign Name</th>\n",
       "      <th>Date</th>\n",
       "      <th>Spend [USD]</th>\n",
       "      <th># of Impressions</th>\n",
       "      <th>Reach</th>\n",
       "      <th># of Website Clicks</th>\n",
       "      <th># of Searches</th>\n",
       "      <th># of View Content</th>\n",
       "      <th># of Add to Cart</th>\n",
       "      <th># of Purchase</th>\n",
       "      <th>...</th>\n",
       "      <th>CPC</th>\n",
       "      <th>CR</th>\n",
       "      <th>CPA</th>\n",
       "      <th>Click_to_Search_Ratio</th>\n",
       "      <th>Search_to_View_Content_Ratio</th>\n",
       "      <th>View_Content_to_Add_to_Cart_Ratio</th>\n",
       "      <th>Add_to_Cart_to_Purchase_Ratio</th>\n",
       "      <th>Year</th>\n",
       "      <th>Month</th>\n",
       "      <th>Day</th>\n",
       "    </tr>\n",
       "  </thead>\n",
       "  <tbody>\n",
       "    <tr>\n",
       "      <th>0</th>\n",
       "      <td>Control Campaign</td>\n",
       "      <td>1.08.2019</td>\n",
       "      <td>2280</td>\n",
       "      <td>82702.0</td>\n",
       "      <td>56930.0</td>\n",
       "      <td>7016.0</td>\n",
       "      <td>2290.0</td>\n",
       "      <td>2159.0</td>\n",
       "      <td>1819.0</td>\n",
       "      <td>618.0</td>\n",
       "      <td>...</td>\n",
       "      <td>0.324971</td>\n",
       "      <td>0.088084</td>\n",
       "      <td>3.689320</td>\n",
       "      <td>0.326397</td>\n",
       "      <td>0.942795</td>\n",
       "      <td>0.842520</td>\n",
       "      <td>0.339747</td>\n",
       "      <td>2019</td>\n",
       "      <td>1</td>\n",
       "      <td>8</td>\n",
       "    </tr>\n",
       "    <tr>\n",
       "      <th>1</th>\n",
       "      <td>Control Campaign</td>\n",
       "      <td>2.08.2019</td>\n",
       "      <td>1757</td>\n",
       "      <td>121040.0</td>\n",
       "      <td>102513.0</td>\n",
       "      <td>8110.0</td>\n",
       "      <td>2033.0</td>\n",
       "      <td>1841.0</td>\n",
       "      <td>1219.0</td>\n",
       "      <td>511.0</td>\n",
       "      <td>...</td>\n",
       "      <td>0.216646</td>\n",
       "      <td>0.063009</td>\n",
       "      <td>3.438356</td>\n",
       "      <td>0.250678</td>\n",
       "      <td>0.905558</td>\n",
       "      <td>0.662140</td>\n",
       "      <td>0.419196</td>\n",
       "      <td>2019</td>\n",
       "      <td>2</td>\n",
       "      <td>8</td>\n",
       "    </tr>\n",
       "    <tr>\n",
       "      <th>2</th>\n",
       "      <td>Control Campaign</td>\n",
       "      <td>3.08.2019</td>\n",
       "      <td>2343</td>\n",
       "      <td>131711.0</td>\n",
       "      <td>110862.0</td>\n",
       "      <td>6508.0</td>\n",
       "      <td>1737.0</td>\n",
       "      <td>1549.0</td>\n",
       "      <td>1134.0</td>\n",
       "      <td>372.0</td>\n",
       "      <td>...</td>\n",
       "      <td>0.360018</td>\n",
       "      <td>0.057160</td>\n",
       "      <td>6.298387</td>\n",
       "      <td>0.266902</td>\n",
       "      <td>0.891767</td>\n",
       "      <td>0.732085</td>\n",
       "      <td>0.328042</td>\n",
       "      <td>2019</td>\n",
       "      <td>3</td>\n",
       "      <td>8</td>\n",
       "    </tr>\n",
       "    <tr>\n",
       "      <th>3</th>\n",
       "      <td>Control Campaign</td>\n",
       "      <td>4.08.2019</td>\n",
       "      <td>1940</td>\n",
       "      <td>72878.0</td>\n",
       "      <td>61235.0</td>\n",
       "      <td>3065.0</td>\n",
       "      <td>1042.0</td>\n",
       "      <td>982.0</td>\n",
       "      <td>1183.0</td>\n",
       "      <td>340.0</td>\n",
       "      <td>...</td>\n",
       "      <td>0.632953</td>\n",
       "      <td>0.110930</td>\n",
       "      <td>5.705882</td>\n",
       "      <td>0.339967</td>\n",
       "      <td>0.942418</td>\n",
       "      <td>1.204684</td>\n",
       "      <td>0.287405</td>\n",
       "      <td>2019</td>\n",
       "      <td>4</td>\n",
       "      <td>8</td>\n",
       "    </tr>\n",
       "    <tr>\n",
       "      <th>5</th>\n",
       "      <td>Control Campaign</td>\n",
       "      <td>6.08.2019</td>\n",
       "      <td>3083</td>\n",
       "      <td>109076.0</td>\n",
       "      <td>87998.0</td>\n",
       "      <td>4028.0</td>\n",
       "      <td>1709.0</td>\n",
       "      <td>1249.0</td>\n",
       "      <td>784.0</td>\n",
       "      <td>764.0</td>\n",
       "      <td>...</td>\n",
       "      <td>0.765392</td>\n",
       "      <td>0.189672</td>\n",
       "      <td>4.035340</td>\n",
       "      <td>0.424280</td>\n",
       "      <td>0.730837</td>\n",
       "      <td>0.627702</td>\n",
       "      <td>0.974490</td>\n",
       "      <td>2019</td>\n",
       "      <td>6</td>\n",
       "      <td>8</td>\n",
       "    </tr>\n",
       "  </tbody>\n",
       "</table>\n",
       "<p>5 rows × 21 columns</p>\n",
       "</div>"
      ],
      "text/plain": [
       "      Campaign Name       Date  Spend [USD]  # of Impressions     Reach  \\\n",
       "0  Control Campaign  1.08.2019         2280           82702.0   56930.0   \n",
       "1  Control Campaign  2.08.2019         1757          121040.0  102513.0   \n",
       "2  Control Campaign  3.08.2019         2343          131711.0  110862.0   \n",
       "3  Control Campaign  4.08.2019         1940           72878.0   61235.0   \n",
       "5  Control Campaign  6.08.2019         3083          109076.0   87998.0   \n",
       "\n",
       "   # of Website Clicks  # of Searches  # of View Content  # of Add to Cart  \\\n",
       "0               7016.0         2290.0             2159.0            1819.0   \n",
       "1               8110.0         2033.0             1841.0            1219.0   \n",
       "2               6508.0         1737.0             1549.0            1134.0   \n",
       "3               3065.0         1042.0              982.0            1183.0   \n",
       "5               4028.0         1709.0             1249.0             784.0   \n",
       "\n",
       "   # of Purchase  ...       CPC        CR       CPA  Click_to_Search_Ratio  \\\n",
       "0          618.0  ...  0.324971  0.088084  3.689320               0.326397   \n",
       "1          511.0  ...  0.216646  0.063009  3.438356               0.250678   \n",
       "2          372.0  ...  0.360018  0.057160  6.298387               0.266902   \n",
       "3          340.0  ...  0.632953  0.110930  5.705882               0.339967   \n",
       "5          764.0  ...  0.765392  0.189672  4.035340               0.424280   \n",
       "\n",
       "   Search_to_View_Content_Ratio  View_Content_to_Add_to_Cart_Ratio  \\\n",
       "0                      0.942795                           0.842520   \n",
       "1                      0.905558                           0.662140   \n",
       "2                      0.891767                           0.732085   \n",
       "3                      0.942418                           1.204684   \n",
       "5                      0.730837                           0.627702   \n",
       "\n",
       "   Add_to_Cart_to_Purchase_Ratio  Year  Month  Day  \n",
       "0                       0.339747  2019      1    8  \n",
       "1                       0.419196  2019      2    8  \n",
       "2                       0.328042  2019      3    8  \n",
       "3                       0.287405  2019      4    8  \n",
       "5                       0.974490  2019      6    8  \n",
       "\n",
       "[5 rows x 21 columns]"
      ]
     },
     "execution_count": 46,
     "metadata": {},
     "output_type": "execute_result"
    }
   ],
   "source": [
    "combined_data.head(5)"
   ]
  },
  {
   "cell_type": "code",
   "execution_count": null,
   "metadata": {},
   "outputs": [],
   "source": []
  },
  {
   "cell_type": "code",
   "execution_count": null,
   "metadata": {},
   "outputs": [],
   "source": []
  },
  {
   "cell_type": "code",
   "execution_count": 33,
   "metadata": {},
   "outputs": [],
   "source": [
    "combined_data.to_csv('combined_data.csv',index=False) "
   ]
  },
  {
   "cell_type": "code",
   "execution_count": 36,
   "metadata": {},
   "outputs": [
    {
     "data": {
      "text/plain": [
       "0.11477203226762732"
      ]
     },
     "execution_count": 36,
     "metadata": {},
     "output_type": "execute_result"
    }
   ],
   "source": [
    "ctrl_grp['CR'].mean() \n"
   ]
  },
  {
   "cell_type": "code",
   "execution_count": 37,
   "metadata": {},
   "outputs": [
    {
     "data": {
      "text/plain": [
       "0.09231181703283602"
      ]
     },
     "execution_count": 37,
     "metadata": {},
     "output_type": "execute_result"
    }
   ],
   "source": [
    "test_grp['CR'].mean()  \n"
   ]
  },
  {
   "cell_type": "code",
   "execution_count": 39,
   "metadata": {},
   "outputs": [
    {
     "data": {
      "text/plain": [
       "0.09231181703283602"
      ]
     },
     "execution_count": 39,
     "metadata": {},
     "output_type": "execute_result"
    }
   ],
   "source": [
    "combined_data[combined_data['Campaign Name'] == 'Test Campaign']['CR'].mean() "
   ]
  },
  {
   "cell_type": "code",
   "execution_count": 38,
   "metadata": {},
   "outputs": [],
   "source": [
    "ctrl_grp.to_csv('ctrl_grp.csv',index=False)  \n",
    "test_grp.to_csv('test_grp.csv',index=False)  \n"
   ]
  },
  {
   "cell_type": "code",
   "execution_count": 49,
   "metadata": {},
   "outputs": [],
   "source": [
    "import plotly.graph_objects as go "
   ]
  },
  {
   "cell_type": "code",
   "execution_count": 54,
   "metadata": {},
   "outputs": [],
   "source": [
    "def create_conversion_sankey(ctrl_grp, test_grp):\n",
    "    # Calculate means for each step\n",
    "    ctrl_means = {\n",
    "        'Impressions': ctrl_grp['# of Impressions'].mean(),\n",
    "        'Clicks': ctrl_grp['# of Website Clicks'].mean(),\n",
    "        'Searches': ctrl_grp['# of Searches'].mean(),\n",
    "        'Views': ctrl_grp['# of View Content'].mean(),\n",
    "        'Cart': ctrl_grp['# of Add to Cart'].mean(),\n",
    "        'Purchase': ctrl_grp['# of Purchase'].mean()\n",
    "    }\n",
    "    \n",
    "    test_means = {\n",
    "        'Impressions': test_grp['# of Impressions'].mean(),\n",
    "        'Clicks': test_grp['# of Website Clicks'].mean(),\n",
    "        'Searches': test_grp['# of Searches'].mean(),\n",
    "        'Views': test_grp['# of View Content'].mean(),\n",
    "        'Cart': test_grp['# of Add to Cart'].mean(),\n",
    "        'Purchase': test_grp['# of Purchase'].mean()\n",
    "    }\n",
    "\n",
    "    # Calculate conversion rates for labels\n",
    "    ctrl_rates = {\n",
    "        'CTR': (ctrl_means['Clicks'] / ctrl_means['Impressions']) * 100,\n",
    "        'Click_to_Search': (ctrl_means['Searches'] / ctrl_means['Clicks']) * 100,\n",
    "        'Search_to_View': (ctrl_means['Views'] / ctrl_means['Searches']) * 100,\n",
    "        'View_to_Cart': (ctrl_means['Cart'] / ctrl_means['Views']) * 100,\n",
    "        'Cart_to_Purchase': (ctrl_means['Purchase'] / ctrl_means['Cart']) * 100\n",
    "    }\n",
    "    \n",
    "    test_rates = {\n",
    "        'CTR': (test_means['Clicks'] / test_means['Impressions']) * 100,\n",
    "        'Click_to_Search': (test_means['Searches'] / test_means['Clicks']) * 100,\n",
    "        'Search_to_View': (test_means['Views'] / test_means['Searches']) * 100,\n",
    "        'View_to_Cart': (test_means['Cart'] / test_means['Views']) * 100,\n",
    "        'Cart_to_Purchase': (test_means['Purchase'] / test_means['Cart']) * 100\n",
    "    }\n",
    "\n",
    "    # Define nodes\n",
    "    labels = [\n",
    "        f'Impressions\\nControl\\n({ctrl_means[\"Impressions\"]:,.0f})',\n",
    "        f'Clicks\\nControl\\n({ctrl_means[\"Clicks\"]:,.0f})',\n",
    "        f'Searches\\nControl\\n({ctrl_means[\"Searches\"]:,.0f})',\n",
    "        f'Views\\nControl\\n({ctrl_means[\"Views\"]:,.0f})',\n",
    "        f'Cart\\nControl\\n({ctrl_means[\"Cart\"]:,.0f})',\n",
    "        f'Purchase\\nControl\\n({ctrl_means[\"Purchase\"]:,.0f})',\n",
    "        f'Impressions\\nTest\\n({test_means[\"Impressions\"]:,.0f})',\n",
    "        f'Clicks\\nTest\\n({test_means[\"Clicks\"]:,.0f})',\n",
    "        f'Searches\\nTest\\n({test_means[\"Searches\"]:,.0f})',\n",
    "        f'Views\\nTest\\n({test_means[\"Views\"]:,.0f})',\n",
    "        f'Cart\\nTest\\n({test_means[\"Cart\"]:,.0f})',\n",
    "        f'Purchase\\nTest\\n({test_means[\"Purchase\"]:,.0f})'\n",
    "    ]\n",
    "\n",
    "    # Define links\n",
    "    source = [\n",
    "        # Control group links\n",
    "        0, 1, 2, 3, 4,\n",
    "        # Test group links\n",
    "        6, 7, 8, 9, 10\n",
    "    ]\n",
    "    \n",
    "    target = [\n",
    "        # Control group links\n",
    "        1, 2, 3, 4, 5,\n",
    "        # Test group links\n",
    "        7, 8, 9, 10, 11\n",
    "    ]\n",
    "    \n",
    "    value = [\n",
    "        # Control group flows\n",
    "        ctrl_means['Clicks'],\n",
    "        ctrl_means['Searches'],\n",
    "        ctrl_means['Views'],\n",
    "        ctrl_means['Cart'],\n",
    "        ctrl_means['Purchase'],\n",
    "        # Test group flows\n",
    "        test_means['Clicks'],\n",
    "        test_means['Searches'],\n",
    "        test_means['Views'],\n",
    "        test_means['Cart'],\n",
    "        test_means['Purchase']\n",
    "    ]\n",
    "\n",
    "    # Create hover text with conversion rates\n",
    "    hover_text = [\n",
    "        f\"Control: {ctrl_rates['CTR']:.1f}%\",\n",
    "        f\"Control: {ctrl_rates['Click_to_Search']:.1f}%\",\n",
    "        f\"Control: {ctrl_rates['Search_to_View']:.1f}%\",\n",
    "        f\"Control: {ctrl_rates['View_to_Cart']:.1f}%\",\n",
    "        f\"Control: {ctrl_rates['Cart_to_Purchase']:.1f}%\",\n",
    "        f\"Test: {test_rates['CTR']:.1f}%\",\n",
    "        f\"Test: {test_rates['Click_to_Search']:.1f}%\",\n",
    "        f\"Test: {test_rates['Search_to_View']:.1f}%\",\n",
    "        f\"Test: {test_rates['View_to_Cart']:.1f}%\",\n",
    "        f\"Test: {test_rates['Cart_to_Purchase']:.1f}%\"\n",
    "    ]\n",
    "\n",
    "    # Create Sankey diagram\n",
    "    fig = go.Figure(data=[go.Sankey(\n",
    "        node=dict(\n",
    "            pad=15,\n",
    "            thickness=20,\n",
    "            line=dict(color=\"black\", width=0.5),\n",
    "            label=labels,\n",
    "            color=[\"rgba(31, 119, 180, 0.8)\"]*6 + [\"rgba(255, 127, 14, 0.8)\"]*6  # Blue for Control, Orange for Test\n",
    "        ),\n",
    "        link=dict(\n",
    "            source=source,\n",
    "            target=target,\n",
    "            value=value,\n",
    "            hovertemplate='%{customdata}<extra></extra>',\n",
    "            customdata=hover_text,\n",
    "            color=[\"rgba(31, 119, 180, 0.3)\"]*5 + [\"rgba(255, 127, 14, 0.3)\"]*5\n",
    "        )\n",
    "    )])\n",
    "\n",
    "    # Update layout\n",
    "    fig.update_layout(\n",
    "        title_text=\"Conversion Funnel: Control vs Test Campaign\",\n",
    "        font_size=10,\n",
    "        height=600,\n",
    "        width=1200,\n",
    "        showlegend=False\n",
    "    )\n",
    "\n",
    "    return fig"
   ]
  },
  {
   "cell_type": "code",
   "execution_count": 55,
   "metadata": {},
   "outputs": [
    {
     "data": {
      "application/vnd.plotly.v1+json": {
       "config": {
        "plotlyServerURL": "https://plot.ly"
       },
       "data": [
        {
         "link": {
          "color": [
           "rgba(31, 119, 180, 0.3)",
           "rgba(31, 119, 180, 0.3)",
           "rgba(31, 119, 180, 0.3)",
           "rgba(31, 119, 180, 0.3)",
           "rgba(31, 119, 180, 0.3)",
           "rgba(255, 127, 14, 0.3)",
           "rgba(255, 127, 14, 0.3)",
           "rgba(255, 127, 14, 0.3)",
           "rgba(255, 127, 14, 0.3)",
           "rgba(255, 127, 14, 0.3)"
          ],
          "customdata": [
           "Control: 4.9%",
           "Control: 41.7%",
           "Control: 87.5%",
           "Control: 66.9%",
           "Control: 40.2%",
           "Test: 8.1%",
           "Test: 40.1%",
           "Test: 76.8%",
           "Test: 47.4%",
           "Test: 59.1%"
          ],
          "hovertemplate": "%{customdata}<extra></extra>",
          "source": [
           0,
           1,
           2,
           3,
           4,
           6,
           7,
           8,
           9,
           10
          ],
          "target": [
           1,
           2,
           3,
           4,
           5,
           7,
           8,
           9,
           10,
           11
          ],
          "value": [
           5320.793103448276,
           2221.310344827586,
           1943.7931034482758,
           1300,
           522.7931034482758,
           6032.333333333333,
           2418.9666666666667,
           1858,
           881.5333333333333,
           521.2333333333333
          ]
         },
         "node": {
          "color": [
           "rgba(31, 119, 180, 0.8)",
           "rgba(31, 119, 180, 0.8)",
           "rgba(31, 119, 180, 0.8)",
           "rgba(31, 119, 180, 0.8)",
           "rgba(31, 119, 180, 0.8)",
           "rgba(31, 119, 180, 0.8)",
           "rgba(255, 127, 14, 0.8)",
           "rgba(255, 127, 14, 0.8)",
           "rgba(255, 127, 14, 0.8)",
           "rgba(255, 127, 14, 0.8)",
           "rgba(255, 127, 14, 0.8)",
           "rgba(255, 127, 14, 0.8)"
          ],
          "label": [
           "Impressions\nControl\n(109,560)",
           "Clicks\nControl\n(5,321)",
           "Searches\nControl\n(2,221)",
           "Views\nControl\n(1,944)",
           "Cart\nControl\n(1,300)",
           "Purchase\nControl\n(523)",
           "Impressions\nTest\n(74,585)",
           "Clicks\nTest\n(6,032)",
           "Searches\nTest\n(2,419)",
           "Views\nTest\n(1,858)",
           "Cart\nTest\n(882)",
           "Purchase\nTest\n(521)"
          ],
          "line": {
           "color": "black",
           "width": 0.5
          },
          "pad": 15,
          "thickness": 20
         },
         "type": "sankey"
        }
       ],
       "layout": {
        "font": {
         "size": 10
        },
        "height": 600,
        "showlegend": false,
        "template": {
         "data": {
          "bar": [
           {
            "error_x": {
             "color": "#2a3f5f"
            },
            "error_y": {
             "color": "#2a3f5f"
            },
            "marker": {
             "line": {
              "color": "#E5ECF6",
              "width": 0.5
             },
             "pattern": {
              "fillmode": "overlay",
              "size": 10,
              "solidity": 0.2
             }
            },
            "type": "bar"
           }
          ],
          "barpolar": [
           {
            "marker": {
             "line": {
              "color": "#E5ECF6",
              "width": 0.5
             },
             "pattern": {
              "fillmode": "overlay",
              "size": 10,
              "solidity": 0.2
             }
            },
            "type": "barpolar"
           }
          ],
          "carpet": [
           {
            "aaxis": {
             "endlinecolor": "#2a3f5f",
             "gridcolor": "white",
             "linecolor": "white",
             "minorgridcolor": "white",
             "startlinecolor": "#2a3f5f"
            },
            "baxis": {
             "endlinecolor": "#2a3f5f",
             "gridcolor": "white",
             "linecolor": "white",
             "minorgridcolor": "white",
             "startlinecolor": "#2a3f5f"
            },
            "type": "carpet"
           }
          ],
          "choropleth": [
           {
            "colorbar": {
             "outlinewidth": 0,
             "ticks": ""
            },
            "type": "choropleth"
           }
          ],
          "contour": [
           {
            "colorbar": {
             "outlinewidth": 0,
             "ticks": ""
            },
            "colorscale": [
             [
              0,
              "#0d0887"
             ],
             [
              0.1111111111111111,
              "#46039f"
             ],
             [
              0.2222222222222222,
              "#7201a8"
             ],
             [
              0.3333333333333333,
              "#9c179e"
             ],
             [
              0.4444444444444444,
              "#bd3786"
             ],
             [
              0.5555555555555556,
              "#d8576b"
             ],
             [
              0.6666666666666666,
              "#ed7953"
             ],
             [
              0.7777777777777778,
              "#fb9f3a"
             ],
             [
              0.8888888888888888,
              "#fdca26"
             ],
             [
              1,
              "#f0f921"
             ]
            ],
            "type": "contour"
           }
          ],
          "contourcarpet": [
           {
            "colorbar": {
             "outlinewidth": 0,
             "ticks": ""
            },
            "type": "contourcarpet"
           }
          ],
          "heatmap": [
           {
            "colorbar": {
             "outlinewidth": 0,
             "ticks": ""
            },
            "colorscale": [
             [
              0,
              "#0d0887"
             ],
             [
              0.1111111111111111,
              "#46039f"
             ],
             [
              0.2222222222222222,
              "#7201a8"
             ],
             [
              0.3333333333333333,
              "#9c179e"
             ],
             [
              0.4444444444444444,
              "#bd3786"
             ],
             [
              0.5555555555555556,
              "#d8576b"
             ],
             [
              0.6666666666666666,
              "#ed7953"
             ],
             [
              0.7777777777777778,
              "#fb9f3a"
             ],
             [
              0.8888888888888888,
              "#fdca26"
             ],
             [
              1,
              "#f0f921"
             ]
            ],
            "type": "heatmap"
           }
          ],
          "histogram": [
           {
            "marker": {
             "pattern": {
              "fillmode": "overlay",
              "size": 10,
              "solidity": 0.2
             }
            },
            "type": "histogram"
           }
          ],
          "histogram2d": [
           {
            "colorbar": {
             "outlinewidth": 0,
             "ticks": ""
            },
            "colorscale": [
             [
              0,
              "#0d0887"
             ],
             [
              0.1111111111111111,
              "#46039f"
             ],
             [
              0.2222222222222222,
              "#7201a8"
             ],
             [
              0.3333333333333333,
              "#9c179e"
             ],
             [
              0.4444444444444444,
              "#bd3786"
             ],
             [
              0.5555555555555556,
              "#d8576b"
             ],
             [
              0.6666666666666666,
              "#ed7953"
             ],
             [
              0.7777777777777778,
              "#fb9f3a"
             ],
             [
              0.8888888888888888,
              "#fdca26"
             ],
             [
              1,
              "#f0f921"
             ]
            ],
            "type": "histogram2d"
           }
          ],
          "histogram2dcontour": [
           {
            "colorbar": {
             "outlinewidth": 0,
             "ticks": ""
            },
            "colorscale": [
             [
              0,
              "#0d0887"
             ],
             [
              0.1111111111111111,
              "#46039f"
             ],
             [
              0.2222222222222222,
              "#7201a8"
             ],
             [
              0.3333333333333333,
              "#9c179e"
             ],
             [
              0.4444444444444444,
              "#bd3786"
             ],
             [
              0.5555555555555556,
              "#d8576b"
             ],
             [
              0.6666666666666666,
              "#ed7953"
             ],
             [
              0.7777777777777778,
              "#fb9f3a"
             ],
             [
              0.8888888888888888,
              "#fdca26"
             ],
             [
              1,
              "#f0f921"
             ]
            ],
            "type": "histogram2dcontour"
           }
          ],
          "mesh3d": [
           {
            "colorbar": {
             "outlinewidth": 0,
             "ticks": ""
            },
            "type": "mesh3d"
           }
          ],
          "parcoords": [
           {
            "line": {
             "colorbar": {
              "outlinewidth": 0,
              "ticks": ""
             }
            },
            "type": "parcoords"
           }
          ],
          "pie": [
           {
            "automargin": true,
            "type": "pie"
           }
          ],
          "scatter": [
           {
            "fillpattern": {
             "fillmode": "overlay",
             "size": 10,
             "solidity": 0.2
            },
            "type": "scatter"
           }
          ],
          "scatter3d": [
           {
            "line": {
             "colorbar": {
              "outlinewidth": 0,
              "ticks": ""
             }
            },
            "marker": {
             "colorbar": {
              "outlinewidth": 0,
              "ticks": ""
             }
            },
            "type": "scatter3d"
           }
          ],
          "scattercarpet": [
           {
            "marker": {
             "colorbar": {
              "outlinewidth": 0,
              "ticks": ""
             }
            },
            "type": "scattercarpet"
           }
          ],
          "scattergeo": [
           {
            "marker": {
             "colorbar": {
              "outlinewidth": 0,
              "ticks": ""
             }
            },
            "type": "scattergeo"
           }
          ],
          "scattergl": [
           {
            "marker": {
             "colorbar": {
              "outlinewidth": 0,
              "ticks": ""
             }
            },
            "type": "scattergl"
           }
          ],
          "scattermap": [
           {
            "marker": {
             "colorbar": {
              "outlinewidth": 0,
              "ticks": ""
             }
            },
            "type": "scattermap"
           }
          ],
          "scattermapbox": [
           {
            "marker": {
             "colorbar": {
              "outlinewidth": 0,
              "ticks": ""
             }
            },
            "type": "scattermapbox"
           }
          ],
          "scatterpolar": [
           {
            "marker": {
             "colorbar": {
              "outlinewidth": 0,
              "ticks": ""
             }
            },
            "type": "scatterpolar"
           }
          ],
          "scatterpolargl": [
           {
            "marker": {
             "colorbar": {
              "outlinewidth": 0,
              "ticks": ""
             }
            },
            "type": "scatterpolargl"
           }
          ],
          "scatterternary": [
           {
            "marker": {
             "colorbar": {
              "outlinewidth": 0,
              "ticks": ""
             }
            },
            "type": "scatterternary"
           }
          ],
          "surface": [
           {
            "colorbar": {
             "outlinewidth": 0,
             "ticks": ""
            },
            "colorscale": [
             [
              0,
              "#0d0887"
             ],
             [
              0.1111111111111111,
              "#46039f"
             ],
             [
              0.2222222222222222,
              "#7201a8"
             ],
             [
              0.3333333333333333,
              "#9c179e"
             ],
             [
              0.4444444444444444,
              "#bd3786"
             ],
             [
              0.5555555555555556,
              "#d8576b"
             ],
             [
              0.6666666666666666,
              "#ed7953"
             ],
             [
              0.7777777777777778,
              "#fb9f3a"
             ],
             [
              0.8888888888888888,
              "#fdca26"
             ],
             [
              1,
              "#f0f921"
             ]
            ],
            "type": "surface"
           }
          ],
          "table": [
           {
            "cells": {
             "fill": {
              "color": "#EBF0F8"
             },
             "line": {
              "color": "white"
             }
            },
            "header": {
             "fill": {
              "color": "#C8D4E3"
             },
             "line": {
              "color": "white"
             }
            },
            "type": "table"
           }
          ]
         },
         "layout": {
          "annotationdefaults": {
           "arrowcolor": "#2a3f5f",
           "arrowhead": 0,
           "arrowwidth": 1
          },
          "autotypenumbers": "strict",
          "coloraxis": {
           "colorbar": {
            "outlinewidth": 0,
            "ticks": ""
           }
          },
          "colorscale": {
           "diverging": [
            [
             0,
             "#8e0152"
            ],
            [
             0.1,
             "#c51b7d"
            ],
            [
             0.2,
             "#de77ae"
            ],
            [
             0.3,
             "#f1b6da"
            ],
            [
             0.4,
             "#fde0ef"
            ],
            [
             0.5,
             "#f7f7f7"
            ],
            [
             0.6,
             "#e6f5d0"
            ],
            [
             0.7,
             "#b8e186"
            ],
            [
             0.8,
             "#7fbc41"
            ],
            [
             0.9,
             "#4d9221"
            ],
            [
             1,
             "#276419"
            ]
           ],
           "sequential": [
            [
             0,
             "#0d0887"
            ],
            [
             0.1111111111111111,
             "#46039f"
            ],
            [
             0.2222222222222222,
             "#7201a8"
            ],
            [
             0.3333333333333333,
             "#9c179e"
            ],
            [
             0.4444444444444444,
             "#bd3786"
            ],
            [
             0.5555555555555556,
             "#d8576b"
            ],
            [
             0.6666666666666666,
             "#ed7953"
            ],
            [
             0.7777777777777778,
             "#fb9f3a"
            ],
            [
             0.8888888888888888,
             "#fdca26"
            ],
            [
             1,
             "#f0f921"
            ]
           ],
           "sequentialminus": [
            [
             0,
             "#0d0887"
            ],
            [
             0.1111111111111111,
             "#46039f"
            ],
            [
             0.2222222222222222,
             "#7201a8"
            ],
            [
             0.3333333333333333,
             "#9c179e"
            ],
            [
             0.4444444444444444,
             "#bd3786"
            ],
            [
             0.5555555555555556,
             "#d8576b"
            ],
            [
             0.6666666666666666,
             "#ed7953"
            ],
            [
             0.7777777777777778,
             "#fb9f3a"
            ],
            [
             0.8888888888888888,
             "#fdca26"
            ],
            [
             1,
             "#f0f921"
            ]
           ]
          },
          "colorway": [
           "#636efa",
           "#EF553B",
           "#00cc96",
           "#ab63fa",
           "#FFA15A",
           "#19d3f3",
           "#FF6692",
           "#B6E880",
           "#FF97FF",
           "#FECB52"
          ],
          "font": {
           "color": "#2a3f5f"
          },
          "geo": {
           "bgcolor": "white",
           "lakecolor": "white",
           "landcolor": "#E5ECF6",
           "showlakes": true,
           "showland": true,
           "subunitcolor": "white"
          },
          "hoverlabel": {
           "align": "left"
          },
          "hovermode": "closest",
          "mapbox": {
           "style": "light"
          },
          "paper_bgcolor": "white",
          "plot_bgcolor": "#E5ECF6",
          "polar": {
           "angularaxis": {
            "gridcolor": "white",
            "linecolor": "white",
            "ticks": ""
           },
           "bgcolor": "#E5ECF6",
           "radialaxis": {
            "gridcolor": "white",
            "linecolor": "white",
            "ticks": ""
           }
          },
          "scene": {
           "xaxis": {
            "backgroundcolor": "#E5ECF6",
            "gridcolor": "white",
            "gridwidth": 2,
            "linecolor": "white",
            "showbackground": true,
            "ticks": "",
            "zerolinecolor": "white"
           },
           "yaxis": {
            "backgroundcolor": "#E5ECF6",
            "gridcolor": "white",
            "gridwidth": 2,
            "linecolor": "white",
            "showbackground": true,
            "ticks": "",
            "zerolinecolor": "white"
           },
           "zaxis": {
            "backgroundcolor": "#E5ECF6",
            "gridcolor": "white",
            "gridwidth": 2,
            "linecolor": "white",
            "showbackground": true,
            "ticks": "",
            "zerolinecolor": "white"
           }
          },
          "shapedefaults": {
           "line": {
            "color": "#2a3f5f"
           }
          },
          "ternary": {
           "aaxis": {
            "gridcolor": "white",
            "linecolor": "white",
            "ticks": ""
           },
           "baxis": {
            "gridcolor": "white",
            "linecolor": "white",
            "ticks": ""
           },
           "bgcolor": "#E5ECF6",
           "caxis": {
            "gridcolor": "white",
            "linecolor": "white",
            "ticks": ""
           }
          },
          "title": {
           "x": 0.05
          },
          "xaxis": {
           "automargin": true,
           "gridcolor": "white",
           "linecolor": "white",
           "ticks": "",
           "title": {
            "standoff": 15
           },
           "zerolinecolor": "white",
           "zerolinewidth": 2
          },
          "yaxis": {
           "automargin": true,
           "gridcolor": "white",
           "linecolor": "white",
           "ticks": "",
           "title": {
            "standoff": 15
           },
           "zerolinecolor": "white",
           "zerolinewidth": 2
          }
         }
        },
        "title": {
         "text": "Conversion Funnel: Control vs Test Campaign"
        },
        "width": 1200
       }
      }
     },
     "metadata": {},
     "output_type": "display_data"
    }
   ],
   "source": [
    "sankey_diagram = create_conversion_sankey(ctrl_grp, test_grp)\n",
    "sankey_diagram.show()"
   ]
  },
  {
   "cell_type": "code",
   "execution_count": 56,
   "metadata": {},
   "outputs": [
    {
     "name": "stdout",
     "output_type": "stream",
     "text": [
      "\n",
      "Conversion Rates Comparison:\n",
      "--------------------------------------------------\n",
      "Metric                       Control       Test       Diff\n",
      "--------------------------------------------------\n",
      "CTR                            4.86%      8.09%      3.23%\n",
      "Click to Search               41.75%     40.10%     -1.65%\n",
      "Search to View                87.51%     76.81%    -10.70%\n",
      "View to Cart                  66.88%     47.45%    -19.43%\n",
      "Cart to Purchase              40.21%     59.13%     18.91%\n"
     ]
    }
   ],
   "source": [
    "def print_conversion_rates(ctrl_grp, test_grp):\n",
    "    print(\"\\nConversion Rates Comparison:\")\n",
    "    print(\"-\" * 50)\n",
    "    print(f\"{'Metric':<25} {'Control':>10} {'Test':>10} {'Diff':>10}\")\n",
    "    print(\"-\" * 50)\n",
    "    \n",
    "    metrics = {\n",
    "        'CTR': ('# of Website Clicks', '# of Impressions'),\n",
    "        'Click to Search': ('# of Searches', '# of Website Clicks'),\n",
    "        'Search to View': ('# of View Content', '# of Searches'),\n",
    "        'View to Cart': ('# of Add to Cart', '# of View Content'),\n",
    "        'Cart to Purchase': ('# of Purchase', '# of Add to Cart')\n",
    "    }\n",
    "    \n",
    "    for metric, (num, denom) in metrics.items():\n",
    "        ctrl_rate = (ctrl_grp[num].mean() / ctrl_grp[denom].mean()) * 100\n",
    "        test_rate = (test_grp[num].mean() / test_grp[denom].mean()) * 100\n",
    "        diff = test_rate - ctrl_rate\n",
    "        \n",
    "        print(f\"{metric:<25} {ctrl_rate:>9.2f}% {test_rate:>9.2f}% {diff:>9.2f}%\")\n",
    "\n",
    "\n",
    "print_conversion_rates(ctrl_grp, test_grp)"
   ]
  },
  {
   "cell_type": "code",
   "execution_count": 61,
   "metadata": {},
   "outputs": [
    {
     "data": {
      "image/png": "[encoded data removed]",
      "text/plain": [
       "<Figure size 1200x600 with 2 Axes>"
      ]
     },
     "metadata": {},
     "output_type": "display_data"
    }
   ],
   "source": [
    "#daily metrics trend \n",
    "fig, ax1 = plt.subplots(figsize=(12, 6))\n",
    "\n",
    "# Plot CTR on primary y-axis\n",
    "sns.lineplot(x='Day', y='CTR', data=combined_data, hue='Campaign Name', \n",
    "             marker='o', ax=ax1, linestyle='-')\n",
    "\n",
    "# Create secondary y-axis\n",
    "ax2 = ax1.twinx()\n",
    "\n",
    "# Plot CPC on secondary y-axis\n",
    "sns.lineplot(x='Day', y='CR', data=combined_data, hue='Campaign Name',\n",
    "             marker='s', ax=ax2, linestyle='--')\n",
    "\n",
    "# Customize the plot\n",
    "ax1.set_xlabel('Day of Month')\n",
    "ax1.set_ylabel('CTR (Click-Through Rate)')\n",
    "ax2.set_ylabel('CR (Conversion Rate)')\n",
    "\n",
    "# Add title\n",
    "plt.title('CTR and CR Trends by Campaign', pad=20)\n",
    "\n",
    "# Adjust legend\n",
    "lines1, labels1 = ax1.get_legend_handles_labels()\n",
    "lines2, labels2 = ax2.get_legend_handles_labels()\n",
    "ax1.legend(lines1 + lines2, ['CTR Control', 'CTR Test', 'CPC Control', 'CPC Test'],\n",
    "           loc='upper right', bbox_to_anchor=(1.15, 1))\n",
    "\n",
    "# Remove the second legend\n",
    "ax2.get_legend().remove()\n",
    "\n",
    "# Add grid\n",
    "ax1.grid(True, alpha=0.3)\n",
    "\n",
    "# Adjust layout to prevent label cutoff\n",
    "plt.tight_layout()\n",
    "\n",
    "# Show the plot\n",
    "plt.show()\n"
   ]
  },
  {
   "cell_type": "code",
   "execution_count": 64,
   "metadata": {},
   "outputs": [
    {
     "data": {
      "text/html": [
       "<div>\n",
       "<style scoped>\n",
       "    .dataframe tbody tr th:only-of-type {\n",
       "        vertical-align: middle;\n",
       "    }\n",
       "\n",
       "    .dataframe tbody tr th {\n",
       "        vertical-align: top;\n",
       "    }\n",
       "\n",
       "    .dataframe thead th {\n",
       "        text-align: right;\n",
       "    }\n",
       "</style>\n",
       "<table border=\"1\" class=\"dataframe\">\n",
       "  <thead>\n",
       "    <tr style=\"text-align: right;\">\n",
       "      <th></th>\n",
       "      <th>Campaign Name</th>\n",
       "      <th>Date</th>\n",
       "      <th>Spend [USD]</th>\n",
       "      <th># of Impressions</th>\n",
       "      <th>Reach</th>\n",
       "      <th># of Website Clicks</th>\n",
       "      <th># of Searches</th>\n",
       "      <th># of View Content</th>\n",
       "      <th># of Add to Cart</th>\n",
       "      <th># of Purchase</th>\n",
       "      <th>...</th>\n",
       "      <th>CPC</th>\n",
       "      <th>CR</th>\n",
       "      <th>CPA</th>\n",
       "      <th>Click_to_Search_Ratio</th>\n",
       "      <th>Search_to_View_Content_Ratio</th>\n",
       "      <th>View_Content_to_Add_to_Cart_Ratio</th>\n",
       "      <th>Add_to_Cart_to_Purchase_Ratio</th>\n",
       "      <th>Year</th>\n",
       "      <th>Month</th>\n",
       "      <th>Day</th>\n",
       "    </tr>\n",
       "  </thead>\n",
       "  <tbody>\n",
       "    <tr>\n",
       "      <th>0</th>\n",
       "      <td>Control Campaign</td>\n",
       "      <td>1.08.2019</td>\n",
       "      <td>2280</td>\n",
       "      <td>82702.0</td>\n",
       "      <td>56930.0</td>\n",
       "      <td>7016.0</td>\n",
       "      <td>2290.0</td>\n",
       "      <td>2159.0</td>\n",
       "      <td>1819.0</td>\n",
       "      <td>618.0</td>\n",
       "      <td>...</td>\n",
       "      <td>0.324971</td>\n",
       "      <td>0.088084</td>\n",
       "      <td>3.689320</td>\n",
       "      <td>0.326397</td>\n",
       "      <td>0.942795</td>\n",
       "      <td>0.842520</td>\n",
       "      <td>0.339747</td>\n",
       "      <td>2019</td>\n",
       "      <td>1</td>\n",
       "      <td>8</td>\n",
       "    </tr>\n",
       "    <tr>\n",
       "      <th>1</th>\n",
       "      <td>Control Campaign</td>\n",
       "      <td>2.08.2019</td>\n",
       "      <td>1757</td>\n",
       "      <td>121040.0</td>\n",
       "      <td>102513.0</td>\n",
       "      <td>8110.0</td>\n",
       "      <td>2033.0</td>\n",
       "      <td>1841.0</td>\n",
       "      <td>1219.0</td>\n",
       "      <td>511.0</td>\n",
       "      <td>...</td>\n",
       "      <td>0.216646</td>\n",
       "      <td>0.063009</td>\n",
       "      <td>3.438356</td>\n",
       "      <td>0.250678</td>\n",
       "      <td>0.905558</td>\n",
       "      <td>0.662140</td>\n",
       "      <td>0.419196</td>\n",
       "      <td>2019</td>\n",
       "      <td>2</td>\n",
       "      <td>8</td>\n",
       "    </tr>\n",
       "    <tr>\n",
       "      <th>2</th>\n",
       "      <td>Control Campaign</td>\n",
       "      <td>3.08.2019</td>\n",
       "      <td>2343</td>\n",
       "      <td>131711.0</td>\n",
       "      <td>110862.0</td>\n",
       "      <td>6508.0</td>\n",
       "      <td>1737.0</td>\n",
       "      <td>1549.0</td>\n",
       "      <td>1134.0</td>\n",
       "      <td>372.0</td>\n",
       "      <td>...</td>\n",
       "      <td>0.360018</td>\n",
       "      <td>0.057160</td>\n",
       "      <td>6.298387</td>\n",
       "      <td>0.266902</td>\n",
       "      <td>0.891767</td>\n",
       "      <td>0.732085</td>\n",
       "      <td>0.328042</td>\n",
       "      <td>2019</td>\n",
       "      <td>3</td>\n",
       "      <td>8</td>\n",
       "    </tr>\n",
       "    <tr>\n",
       "      <th>3</th>\n",
       "      <td>Control Campaign</td>\n",
       "      <td>4.08.2019</td>\n",
       "      <td>1940</td>\n",
       "      <td>72878.0</td>\n",
       "      <td>61235.0</td>\n",
       "      <td>3065.0</td>\n",
       "      <td>1042.0</td>\n",
       "      <td>982.0</td>\n",
       "      <td>1183.0</td>\n",
       "      <td>340.0</td>\n",
       "      <td>...</td>\n",
       "      <td>0.632953</td>\n",
       "      <td>0.110930</td>\n",
       "      <td>5.705882</td>\n",
       "      <td>0.339967</td>\n",
       "      <td>0.942418</td>\n",
       "      <td>1.204684</td>\n",
       "      <td>0.287405</td>\n",
       "      <td>2019</td>\n",
       "      <td>4</td>\n",
       "      <td>8</td>\n",
       "    </tr>\n",
       "    <tr>\n",
       "      <th>5</th>\n",
       "      <td>Control Campaign</td>\n",
       "      <td>6.08.2019</td>\n",
       "      <td>3083</td>\n",
       "      <td>109076.0</td>\n",
       "      <td>87998.0</td>\n",
       "      <td>4028.0</td>\n",
       "      <td>1709.0</td>\n",
       "      <td>1249.0</td>\n",
       "      <td>784.0</td>\n",
       "      <td>764.0</td>\n",
       "      <td>...</td>\n",
       "      <td>0.765392</td>\n",
       "      <td>0.189672</td>\n",
       "      <td>4.035340</td>\n",
       "      <td>0.424280</td>\n",
       "      <td>0.730837</td>\n",
       "      <td>0.627702</td>\n",
       "      <td>0.974490</td>\n",
       "      <td>2019</td>\n",
       "      <td>6</td>\n",
       "      <td>8</td>\n",
       "    </tr>\n",
       "  </tbody>\n",
       "</table>\n",
       "<p>5 rows × 21 columns</p>\n",
       "</div>"
      ],
      "text/plain": [
       "      Campaign Name       Date  Spend [USD]  # of Impressions     Reach  \\\n",
       "0  Control Campaign  1.08.2019         2280           82702.0   56930.0   \n",
       "1  Control Campaign  2.08.2019         1757          121040.0  102513.0   \n",
       "2  Control Campaign  3.08.2019         2343          131711.0  110862.0   \n",
       "3  Control Campaign  4.08.2019         1940           72878.0   61235.0   \n",
       "5  Control Campaign  6.08.2019         3083          109076.0   87998.0   \n",
       "\n",
       "   # of Website Clicks  # of Searches  # of View Content  # of Add to Cart  \\\n",
       "0               7016.0         2290.0             2159.0            1819.0   \n",
       "1               8110.0         2033.0             1841.0            1219.0   \n",
       "2               6508.0         1737.0             1549.0            1134.0   \n",
       "3               3065.0         1042.0              982.0            1183.0   \n",
       "5               4028.0         1709.0             1249.0             784.0   \n",
       "\n",
       "   # of Purchase  ...       CPC        CR       CPA  Click_to_Search_Ratio  \\\n",
       "0          618.0  ...  0.324971  0.088084  3.689320               0.326397   \n",
       "1          511.0  ...  0.216646  0.063009  3.438356               0.250678   \n",
       "2          372.0  ...  0.360018  0.057160  6.298387               0.266902   \n",
       "3          340.0  ...  0.632953  0.110930  5.705882               0.339967   \n",
       "5          764.0  ...  0.765392  0.189672  4.035340               0.424280   \n",
       "\n",
       "   Search_to_View_Content_Ratio  View_Content_to_Add_to_Cart_Ratio  \\\n",
       "0                      0.942795                           0.842520   \n",
       "1                      0.905558                           0.662140   \n",
       "2                      0.891767                           0.732085   \n",
       "3                      0.942418                           1.204684   \n",
       "5                      0.730837                           0.627702   \n",
       "\n",
       "   Add_to_Cart_to_Purchase_Ratio  Year  Month  Day  \n",
       "0                       0.339747  2019      1    8  \n",
       "1                       0.419196  2019      2    8  \n",
       "2                       0.328042  2019      3    8  \n",
       "3                       0.287405  2019      4    8  \n",
       "5                       0.974490  2019      6    8  \n",
       "\n",
       "[5 rows x 21 columns]"
      ]
     },
     "execution_count": 64,
     "metadata": {},
     "output_type": "execute_result"
    }
   ],
   "source": [
    "combined_data.head(5)"
   ]
  },
  {
   "cell_type": "code",
   "execution_count": null,
   "metadata": {},
   "outputs": [],
   "source": [
    "#KPIs\n",
    "ctrl_grp['CTR'] = ctrl_grp['# of Website Clicks'] / ctrl_grp['# of Impressions']   \n",
    "ctrl_grp['CPC'] = ctrl_grp['Spend [USD]'] / ctrl_grp['# of Website Clicks']  \n",
    "ctrl_grp['CR'] = ctrl_grp['# of Purchase'] / ctrl_grp['# of Website Clicks']   \n",
    "ctrl_grp['CPA'] = ctrl_grp['Spend [USD]'] / ctrl_grp['# of Purchase']    \n",
    "ctrl_grp['CPA'] = ctrl_grp['Spend [USD]'] / ctrl_grp['# of Purchase']\n",
    "ctrl_grp['Click_to_Search_Ratio'] = ctrl_grp['# of Searches'] / ctrl_grp['# of Website Clicks']   \n",
    "ctrl_grp['Search_to_View_Content_Ratio'] = ctrl_grp['# of View Content'] / ctrl_grp['# of Searches']    \n",
    "ctrl_grp['View_Content_to_Add_to_Cart_Ratio'] = ctrl_grp['# of Add to Cart'] / ctrl_grp['# of View Content']   \n",
    "ctrl_grp['Add_to_Cart_to_Purchase_Ratio'] = ctrl_grp['# of Purchase'] / ctrl_grp['# of Add to Cart']\n",
    "\n",
    "test_grp['CTR'] = test_grp['# of Website Clicks'] / test_grp['# of Impressions']   \n",
    "test_grp['CPC'] = test_grp['Spend [USD]'] / test_grp['# of Website Clicks']   \n",
    "test_grp['CR'] = test_grp['# of Purchase'] / test_grp['# of Website Clicks']   \n",
    "test_grp['CPA'] = test_grp['Spend [USD]'] / test_grp['# of Purchase']    \n",
    "test_grp['Click_to_Search_Ratio'] = test_grp['# of Searches'] / test_grp['# of Website Clicks']   \n",
    "test_grp['Search_to_View_Content_Ratio'] = test_grp['# of View Content'] / test_grp['# of Searches']    \n",
    "test_grp['View_Content_to_Add_to_Cart_Ratio'] = test_grp['# of Add to Cart'] / test_grp['# of View Content']   \n",
    "test_grp['Add_to_Cart_to_Purchase_Ratio'] = test_grp['# of Purchase'] / test_grp['# of Add to Cart']\n",
    "\n"
   ]
  },
  {
   "cell_type": "code",
   "execution_count": 62,
   "metadata": {},
   "outputs": [
    {
     "data": {
      "image/png": "[encoded data removed]",
      "text/plain": [
       "<Figure size 1200x600 with 1 Axes>"
      ]
     },
     "metadata": {},
     "output_type": "display_data"
    },
    {
     "name": "stdout",
     "output_type": "stream",
     "text": [
      "\n",
      "Detailed Funnel Step Comparison:\n",
      "------------------------------------------------------------\n",
      "Step                    Control       Test   Difference\n",
      "------------------------------------------------------------\n",
      "CTR                        5.1%      10.2%         5.1%\n",
      "Click_to_Search           44.1%      43.7%        -0.4%\n",
      "Search_to_View            87.3%      75.6%       -11.7%\n",
      "View_to_Cart              77.8%      51.5%       -26.3%\n",
      "Cart_to_Purchase          45.7%      61.8%        16.1%\n"
     ]
    }
   ],
   "source": [
    "def plot_funnel_dropoff_rates(ctrl_grp, test_grp):\n",
    "    # Calculate funnel metrics for both groups\n",
    "    def calculate_rates(data):\n",
    "        return {\n",
    "            'CTR': (data['# of Website Clicks'] / data['# of Impressions']).mean() * 100,\n",
    "            'Click_to_Search': (data['# of Searches'] / data['# of Website Clicks']).mean() * 100,\n",
    "            'Search_to_View': (data['# of View Content'] / data['# of Searches']).mean() * 100,\n",
    "            'View_to_Cart': (data['# of Add to Cart'] / data['# of View Content']).mean() * 100,\n",
    "            'Cart_to_Purchase': (data['# of Purchase'] / data['# of Add to Cart']).mean() * 100\n",
    "        }\n",
    "\n",
    "    # Get rates for both groups\n",
    "    ctrl_rates = calculate_rates(ctrl_grp)\n",
    "    test_rates = calculate_rates(test_grp)\n",
    "\n",
    "    # Create DataFrame for plotting\n",
    "    plot_data = pd.DataFrame({\n",
    "        'Step': list(ctrl_rates.keys()) * 2,\n",
    "        'Rate': list(ctrl_rates.values()) + list(test_rates.values()),\n",
    "        'Campaign': ['Control'] * 5 + ['Test'] * 5\n",
    "    })\n",
    "\n",
    "    # Create the plot\n",
    "    plt.figure(figsize=(12, 6))\n",
    "    \n",
    "    # Create grouped bar chart\n",
    "    sns.barplot(x='Step', y='Rate', hue='Campaign', data=plot_data,\n",
    "                palette=['blue', 'orange'])\n",
    "\n",
    "    # Customize the plot\n",
    "    plt.title('Funnel Drop-off Rates by Step', pad=20)\n",
    "    plt.xlabel('Funnel Step')\n",
    "    plt.ylabel('Conversion Rate (%)')\n",
    "    \n",
    "    # Rotate x-axis labels for better readability\n",
    "    plt.xticks(rotation=45, ha='right')\n",
    "    \n",
    "    # Add value labels on bars\n",
    "    for i in plt.gca().containers:\n",
    "        plt.gca().bar_label(i, fmt='%.1f%%', padding=3)\n",
    "\n",
    "    # Add grid for better readability\n",
    "    plt.grid(axis='y', alpha=0.3)\n",
    "    \n",
    "    # Adjust layout to prevent label cutoff\n",
    "    plt.tight_layout()\n",
    "    \n",
    "    # Show the plot\n",
    "    plt.show()\n",
    "\n",
    "    # Print detailed comparison\n",
    "    print(\"\\nDetailed Funnel Step Comparison:\")\n",
    "    print(\"-\" * 60)\n",
    "    print(f\"{'Step':<20} {'Control':>10} {'Test':>10} {'Difference':>12}\")\n",
    "    print(\"-\" * 60)\n",
    "    \n",
    "    for step in ctrl_rates.keys():\n",
    "        diff = test_rates[step] - ctrl_rates[step]\n",
    "        print(f\"{step:<20} {ctrl_rates[step]:>9.1f}% {test_rates[step]:>9.1f}% {diff:>11.1f}%\")\n",
    "\n",
    "# Create the visualization\n",
    "plot_funnel_dropoff_rates(ctrl_grp, test_grp) "
   ]
  },
  {
   "cell_type": "code",
   "execution_count": 67,
   "metadata": {},
   "outputs": [
    {
     "name": "stdout",
     "output_type": "stream",
     "text": [
      "\n",
      "    Conversion Rate:\n",
      "    Control: 9.8255%\n",
      "    Test: 8.6407%\n",
      "    Lift: -12.06%\n",
      "    P-value: 0.0000\n",
      "    ✓ Significant\n",
      "    \n",
      "\n",
      "    CTR:\n",
      "    Control: 4.8565%\n",
      "    Test: 8.0879%\n",
      "    Lift: 66.54%\n",
      "    P-value: 0.0000\n",
      "    ✓ Significant\n",
      "    \n",
      "\n",
      "    CPA:\n",
      "    Control: 9.8255%\n",
      "    Test: 8.6407%\n",
      "    Lift: -12.06%\n",
      "    P-value: 0.0000\n",
      "    ✓ Significant\n",
      "    \n"
     ]
    },
    {
     "data": {
      "image/png": "[encoded data removed]",
      "text/plain": [
       "<Figure size 1200x600 with 1 Axes>"
      ]
     },
     "metadata": {},
     "output_type": "display_data"
    }
   ],
   "source": [
    "def calculate_significance(control_data, test_data, metric_name, success_col, total_col):\n",
    "    # Calculate counts\n",
    "    control_success = control_data[success_col].sum()\n",
    "    control_total = control_data[total_col].sum()\n",
    "    test_success = test_data[success_col].sum()\n",
    "    test_total = test_data[total_col].sum()\n",
    "    \n",
    "    # Perform z-test\n",
    "    successes = [control_success, test_success]\n",
    "    totals = [control_total, test_total]\n",
    "    z_stat, p_value = proportions_ztest(count=successes, nobs=totals)\n",
    "    \n",
    "    # Calculate relative lift\n",
    "    control_rate = control_success / control_total\n",
    "    test_rate = test_success / test_total\n",
    "    relative_lift = ((test_rate - control_rate) / control_rate) * 100\n",
    "    \n",
    "    return {\n",
    "        'metric': metric_name,\n",
    "        'control_rate': control_rate,\n",
    "        'test_rate': test_rate,\n",
    "        'relative_lift': relative_lift,\n",
    "        'z_statistic': z_stat,\n",
    "        'p_value': p_value,\n",
    "        'is_significant': p_value < 0.05\n",
    "    }\n",
    "\n",
    "# Calculate significance for different metrics\n",
    "metrics_to_test = [\n",
    "    {\n",
    "        'name': 'Conversion Rate',\n",
    "        'success': '# of Purchase',\n",
    "        'total': '# of Website Clicks'\n",
    "    },\n",
    "    {\n",
    "        'name': 'CTR',\n",
    "        'success': '# of Website Clicks',\n",
    "        'total': '# of Impressions'\n",
    "    },\n",
    "    # Add other metrics as needed\n",
    "    {\n",
    "        'name': 'CPA',\n",
    "        'success': '# of Purchase',\n",
    "        'total': '# of Website Clicks'\n",
    "    },\n",
    "\n",
    "]\n",
    "\n",
    "significance_results = []\n",
    "for metric in metrics_to_test:\n",
    "    result = calculate_significance(\n",
    "        ctrl_grp, \n",
    "        test_grp, \n",
    "        metric['name'],\n",
    "        metric['success'],\n",
    "        metric['total']\n",
    "    )\n",
    "    significance_results.append(result)\n",
    "\n",
    "# Create a summary DataFrame\n",
    "significance_df = pd.DataFrame(significance_results)\n",
    "\n",
    "# Format for display\n",
    "def format_significance(row):\n",
    "    return f\"\"\"\n",
    "    {row['metric']}:\n",
    "    Control: {row['control_rate']:.4%}\n",
    "    Test: {row['test_rate']:.4%}\n",
    "    Lift: {row['relative_lift']:.2f}%\n",
    "    P-value: {row['p_value']:.4f}\n",
    "    {'✓ Significant' if row['is_significant'] else '✗ Not Significant'}\n",
    "    \"\"\"\n",
    "\n",
    "# Print formatted results\n",
    "for _, row in significance_df.iterrows():\n",
    "    print(format_significance(row))\n",
    "\n",
    "# 2. Create visualization\n",
    "import matplotlib.pyplot as plt\n",
    "import seaborn as sns\n",
    "\n",
    "def plot_significance(significance_df, figsize=(12, 6)):\n",
    "    plt.figure(figsize=figsize)\n",
    "    \n",
    "    # Create bar plot\n",
    "    x = np.arange(len(significance_df))\n",
    "    width = 0.35\n",
    "    \n",
    "    plt.bar(x - width/2, significance_df['control_rate'], width, label='Control', color='blue', alpha=0.6)\n",
    "    plt.bar(x + width/2, significance_df['test_rate'], width, label='Test', color='orange', alpha=0.6)\n",
    "    \n",
    "    # Add significance markers\n",
    "    for i, row in significance_df.iterrows():\n",
    "        if row['is_significant']:\n",
    "            plt.text(i, max(row['control_rate'], row['test_rate']) + 0.01, \n",
    "                    '*', ha='center', va='bottom', fontsize=20)\n",
    "    \n",
    "    plt.xlabel('Metrics')\n",
    "    plt.ylabel('Rate')\n",
    "    plt.title('A/B Test Results with Statistical Significance')\n",
    "    plt.xticks(x, significance_df['metric'])\n",
    "    plt.legend()\n",
    "    \n",
    "    # Add p-values\n",
    "    for i, row in significance_df.iterrows():\n",
    "        plt.text(i, 0.01, f'p={row[\"p_value\"]:.4f}', ha='center', va='bottom')\n",
    "    \n",
    "    plt.tight_layout()\n",
    "    return plt\n",
    "\n",
    "# Create the plot\n",
    "significance_plot = plot_significance(significance_df)\n",
    "plt.show()\n",
    "\n",
    "# 3. Create a summary table for the dashboard\n",
    "summary_table = pd.DataFrame({\n",
    "    'Metric': significance_df['metric'],\n",
    "    'Control': significance_df['control_rate'].apply(lambda x: f'{x:.2%}'),\n",
    "    'Test': significance_df['test_rate'].apply(lambda x: f'{x:.2%}'),\n",
    "    'Lift': significance_df['relative_lift'].apply(lambda x: f'{x:+.2f}%'),\n",
    "    'Significant': significance_df['is_significant'].apply(lambda x: '✓' if x else '✗'),\n",
    "    'P-value': significance_df['p_value'].apply(lambda x: f'{x:.4f}')\n",
    "}) "
   ]
  },
  {
   "cell_type": "code",
   "execution_count": 70,
   "metadata": {},
   "outputs": [
    {
     "data": {
      "text/html": [
       "<div>\n",
       "<style scoped>\n",
       "    .dataframe tbody tr th:only-of-type {\n",
       "        vertical-align: middle;\n",
       "    }\n",
       "\n",
       "    .dataframe tbody tr th {\n",
       "        vertical-align: top;\n",
       "    }\n",
       "\n",
       "    .dataframe thead th {\n",
       "        text-align: right;\n",
       "    }\n",
       "</style>\n",
       "<table border=\"1\" class=\"dataframe\">\n",
       "  <thead>\n",
       "    <tr style=\"text-align: right;\">\n",
       "      <th></th>\n",
       "      <th>metric</th>\n",
       "      <th>control_rate</th>\n",
       "      <th>test_rate</th>\n",
       "      <th>relative_lift</th>\n",
       "      <th>z_statistic</th>\n",
       "      <th>p_value</th>\n",
       "      <th>is_significant</th>\n",
       "    </tr>\n",
       "  </thead>\n",
       "  <tbody>\n",
       "    <tr>\n",
       "      <th>0</th>\n",
       "      <td>Conversion Rate</td>\n",
       "      <td>0.098255</td>\n",
       "      <td>0.086407</td>\n",
       "      <td>-12.058601</td>\n",
       "      <td>11.838675</td>\n",
       "      <td>2.463148e-32</td>\n",
       "      <td>True</td>\n",
       "    </tr>\n",
       "    <tr>\n",
       "      <th>1</th>\n",
       "      <td>CTR</td>\n",
       "      <td>0.048565</td>\n",
       "      <td>0.080879</td>\n",
       "      <td>66.536601</td>\n",
       "      <td>-153.630197</td>\n",
       "      <td>0.000000e+00</td>\n",
       "      <td>True</td>\n",
       "    </tr>\n",
       "    <tr>\n",
       "      <th>2</th>\n",
       "      <td>CPA</td>\n",
       "      <td>0.098255</td>\n",
       "      <td>0.086407</td>\n",
       "      <td>-12.058601</td>\n",
       "      <td>11.838675</td>\n",
       "      <td>2.463148e-32</td>\n",
       "      <td>True</td>\n",
       "    </tr>\n",
       "  </tbody>\n",
       "</table>\n",
       "</div>"
      ],
      "text/plain": [
       "            metric  control_rate  test_rate  relative_lift  z_statistic  \\\n",
       "0  Conversion Rate      0.098255   0.086407     -12.058601    11.838675   \n",
       "1              CTR      0.048565   0.080879      66.536601  -153.630197   \n",
       "2              CPA      0.098255   0.086407     -12.058601    11.838675   \n",
       "\n",
       "        p_value  is_significant  \n",
       "0  2.463148e-32            True  \n",
       "1  0.000000e+00            True  \n",
       "2  2.463148e-32            True  "
      ]
     },
     "execution_count": 70,
     "metadata": {},
     "output_type": "execute_result"
    }
   ],
   "source": [
    "significance_df.head()"
   ]
  },
  {
   "cell_type": "code",
   "execution_count": 69,
   "metadata": {},
   "outputs": [],
   "source": [
    "significance_df.to_csv('significance_df.csv',index=False) "
   ]
  },
  {
   "cell_type": "code",
   "execution_count": 79,
   "metadata": {},
   "outputs": [],
   "source": [
    "def generate_kpi_summary_csv(ctrl_grp, test_grp, significance_df, output_filename=\"kpi_summary_row1.csv\"):\n",
    "    \"\"\"\n",
    "    Generates a CSV file for the KPI summary table (Row 1 of the dashboard).\n",
    "\n",
    "    Args:\n",
    "        ctrl_grp (pd.DataFrame): DataFrame for the control group.\n",
    "        test_grp (pd.DataFrame): DataFrame for the test group.\n",
    "        significance_df (pd.DataFrame): DataFrame containing significance test results\n",
    "                                         for metrics like 'Conversion Rate' and 'CTR'.\n",
    "                                         Expected columns: 'metric', 'control_rate', 'test_rate',\n",
    "                                         'relative_lift', 'p_value', 'is_significant'.\n",
    "        output_filename (str): Name of the CSV file to save.\n",
    "    \"\"\"\n",
    "    kpi_data_list = []\n",
    "\n",
    "    # --- Helper function to safely get significance data ---\n",
    "    def get_significance_data(metric_name):\n",
    "        if metric_name in significance_df['metric'].values:\n",
    "            return significance_df[significance_df['metric'] == metric_name].iloc[0]\n",
    "        return None\n",
    "\n",
    "    # 1. Conversion Rate (CR)\n",
    "    cr_sig_data = get_significance_data('Conversion Rate')\n",
    "    if cr_sig_data is not None:\n",
    "        kpi_data_list.append({\n",
    "            'Metric': 'Conversion Rate (CR)',\n",
    "            'Control': f\"{cr_sig_data['control_rate']:.2%}\",\n",
    "            'Test': f\"{cr_sig_data['test_rate']:.2%}\",\n",
    "            'Lift (%)': f\"{cr_sig_data['relative_lift']:.2f}%\",\n",
    "            'P-value': f\"{cr_sig_data['p_value']:.4f}\",\n",
    "            'Significant? (✓/✗)': '✓' if cr_sig_data['is_significant'] else '✗'\n",
    "        })\n",
    "    else:\n",
    "        kpi_data_list.append({'Metric': 'Conversion Rate (CR)', 'Control': 'N/A', 'Test': 'N/A', 'Lift (%)': 'N/A', 'P-value': 'N/A', 'Significant? (✓/✗)': 'N/A'})\n",
    "\n",
    "    # 2. Click-Through Rate (CTR)\n",
    "    ctr_sig_data = get_significance_data('CTR')\n",
    "    if ctr_sig_data is not None:\n",
    "        kpi_data_list.append({\n",
    "            'Metric': 'Click-Through Rate (CTR)',\n",
    "            'Control': f\"{ctr_sig_data['control_rate']:.2%}\",\n",
    "            'Test': f\"{ctr_sig_data['test_rate']:.2%}\",\n",
    "            'Lift (%)': f\"{ctr_sig_data['relative_lift']:.2f}%\",\n",
    "            'P-value': f\"{ctr_sig_data['p_value']:.4f}\",\n",
    "            'Significant? (✓/✗)': '✓' if ctr_sig_data['is_significant'] else '✗'\n",
    "        })\n",
    "    else:\n",
    "        kpi_data_list.append({'Metric': 'Click-Through Rate (CTR)', 'Control': 'N/A', 'Test': 'N/A', 'Lift (%)': 'N/A', 'P-value': 'N/A', 'Significant? (✓/✗)': 'N/A'})\n",
    "\n",
    "    # --- Calculate aggregate values ---\n",
    "    control_spend_total = ctrl_grp['Spend [USD]'].sum()\n",
    "    control_purchases_total = ctrl_grp['# of Purchase'].sum()\n",
    "    control_clicks_total = ctrl_grp['# of Website Clicks'].sum() # For CPA if defined as Spend/Clicks\n",
    "\n",
    "    test_spend_total = test_grp['Spend [USD]'].sum()\n",
    "    test_purchases_total = test_grp['# of Purchase'].sum()\n",
    "    test_clicks_total = test_grp['# of Website Clicks'].sum() # For CPA if defined as Spend/Clicks\n",
    "\n",
    "    # 3. Cost Per Acquisition (CPA) - Spend / Purchases\n",
    "    control_cpa = control_spend_total / control_purchases_total if control_purchases_total > 0 else np.nan\n",
    "    test_cpa = test_spend_total / test_purchases_total if test_purchases_total > 0 else np.nan\n",
    "    cpa_lift_value = ((test_cpa - control_cpa) / control_cpa) * 100 if pd.notna(control_cpa) and control_cpa != 0 and pd.notna(test_cpa) else np.nan\n",
    "    \n",
    "    cpa_p_value_str = \"N/A (Requires different test)\"\n",
    "    cpa_significant_str = \"N/A\"\n",
    "\n",
    "    # Check if 'CPA' was in significance_df (even if its calculation method was for proportions)\n",
    "    # This allows using user-provided p-value if they ran it, with a note.\n",
    "    cpa_sig_data_from_df = get_significance_data('CPA')\n",
    "    if cpa_sig_data_from_df is not None:\n",
    "        # Note: The p-value from significance_df for CPA might be based on an incorrect formula (e.g., proportions_ztest on CR-like data).\n",
    "        # Using it here as per user's provided significance_df structure, but highlighting this.\n",
    "        cpa_p_value_str = f\"{cpa_sig_data_from_df['p_value']:.4f} (Note: Verify test method for CPA)\"\n",
    "        cpa_significant_str = '✓' if cpa_sig_data_from_df['is_significant'] else '✗'\n",
    "        # If significance_df had a 'CPA' row, its lift might be different from the one calculated above based on raw Spend/Purchase.\n",
    "        # We'll use the lift from significance_df if available for consistency with its p-value.\n",
    "        if pd.notna(cpa_sig_data_from_df['relative_lift']):\n",
    "             cpa_lift_value = cpa_sig_data_from_df['relative_lift']\n",
    "\n",
    "\n",
    "    kpi_data_list.append({\n",
    "        'Metric': 'Cost Per Acq. (CPA)',\n",
    "        'Control': f\"{control_cpa:.2f}\" if pd.notna(control_cpa) else \"N/A\",\n",
    "        'Test': f\"{test_cpa:.2f}\" if pd.notna(test_cpa) else \"N/A\",\n",
    "        'Lift (%)': f\"{cpa_lift_value:.2f}%\" if pd.notna(cpa_lift_value) else \"N/A\",\n",
    "        'P-value': cpa_p_value_str,\n",
    "        'Significant? (✓/✗)': cpa_significant_str\n",
    "    })\n",
    "\n",
    "    # 4. Total Spend\n",
    "    spend_lift_value = ((test_spend_total - control_spend_total) / control_spend_total) * 100 if control_spend_total > 0 else np.nan\n",
    "    kpi_data_list.append({\n",
    "        'Metric': 'Total Spend',\n",
    "        'Control': f\"{control_spend_total:,.2f}\",\n",
    "        'Test': f\"{test_spend_total:,.2f}\",\n",
    "        'Lift (%)': f\"{spend_lift_value:.2f}%\" if pd.notna(spend_lift_value) else \"N/A\",\n",
    "        'P-value': \"N/A\",\n",
    "        'Significant? (✓/✗)': \"N/A\"\n",
    "    })\n",
    "\n",
    "    # 5. Total Purchases\n",
    "    purchases_lift_value = ((test_purchases_total - control_purchases_total) / control_purchases_total) * 100 if control_purchases_total > 0 else np.nan\n",
    "    kpi_data_list.append({\n",
    "        'Metric': 'Total Purchases',\n",
    "        'Control': f\"{control_purchases_total:,.0f}\",\n",
    "        'Test': f\"{test_purchases_total:,.0f}\",\n",
    "        'Lift (%)': f\"{purchases_lift_value:.2f}%\" if pd.notna(purchases_lift_value) else \"N/A\",\n",
    "        'P-value': \"N/A\",\n",
    "        'Significant? (✓/✗)': \"N/A\"\n",
    "    })\n",
    "\n",
    "    # Create DataFrame and save to CSV\n",
    "    kpi_df = pd.DataFrame(kpi_data_list)\n",
    "    kpi_df.to_csv(output_filename, index=False)\n",
    "    print(f\"KPI summary table saved to {output_filename}\") "
   ]
  },
  {
   "cell_type": "code",
   "execution_count": 80,
   "metadata": {},
   "outputs": [
    {
     "name": "stdout",
     "output_type": "stream",
     "text": [
      "KPI summary table saved to kpi_summary_row1.csv\n"
     ]
    }
   ],
   "source": [
    "generate_kpi_summary_csv(ctrl_grp, test_grp, significance_df) "
   ]
  },
  {
   "cell_type": "code",
   "execution_count": 81,
   "metadata": {},
   "outputs": [],
   "source": [
    "kpi_summ = pd.read_csv('kpi_summary_row1.csv')"
   ]
  },
  {
   "cell_type": "code",
   "execution_count": 83,
   "metadata": {},
   "outputs": [
    {
     "data": {
      "text/html": [
       "<div>\n",
       "<style scoped>\n",
       "    .dataframe tbody tr th:only-of-type {\n",
       "        vertical-align: middle;\n",
       "    }\n",
       "\n",
       "    .dataframe tbody tr th {\n",
       "        vertical-align: top;\n",
       "    }\n",
       "\n",
       "    .dataframe thead th {\n",
       "        text-align: right;\n",
       "    }\n",
       "</style>\n",
       "<table border=\"1\" class=\"dataframe\">\n",
       "  <thead>\n",
       "    <tr style=\"text-align: right;\">\n",
       "      <th></th>\n",
       "      <th>Metric</th>\n",
       "      <th>Control</th>\n",
       "      <th>Test</th>\n",
       "      <th>Lift (%)</th>\n",
       "      <th>P-value</th>\n",
       "      <th>Significant? (✓/✗)</th>\n",
       "    </tr>\n",
       "  </thead>\n",
       "  <tbody>\n",
       "    <tr>\n",
       "      <th>0</th>\n",
       "      <td>Conversion Rate (CR)</td>\n",
       "      <td>9.83%</td>\n",
       "      <td>8.64%</td>\n",
       "      <td>-12.06%</td>\n",
       "      <td>0.0000</td>\n",
       "      <td>✓</td>\n",
       "    </tr>\n",
       "    <tr>\n",
       "      <th>1</th>\n",
       "      <td>Click-Through Rate (CTR)</td>\n",
       "      <td>4.86%</td>\n",
       "      <td>8.09%</td>\n",
       "      <td>66.54%</td>\n",
       "      <td>0.0000</td>\n",
       "      <td>✓</td>\n",
       "    </tr>\n",
       "    <tr>\n",
       "      <th>2</th>\n",
       "      <td>Cost Per Acq. (CPA)</td>\n",
       "      <td>4.41</td>\n",
       "      <td>4.92</td>\n",
       "      <td>-12.06%</td>\n",
       "      <td>0.0000 (Note: Verify test method for CPA)</td>\n",
       "      <td>✓</td>\n",
       "    </tr>\n",
       "    <tr>\n",
       "      <th>3</th>\n",
       "      <td>Total Spend</td>\n",
       "      <td>66,818.00</td>\n",
       "      <td>76,892.00</td>\n",
       "      <td>15.08%</td>\n",
       "      <td>NaN</td>\n",
       "      <td>NaN</td>\n",
       "    </tr>\n",
       "    <tr>\n",
       "      <th>4</th>\n",
       "      <td>Total Purchases</td>\n",
       "      <td>15,161</td>\n",
       "      <td>15,637</td>\n",
       "      <td>3.14%</td>\n",
       "      <td>NaN</td>\n",
       "      <td>NaN</td>\n",
       "    </tr>\n",
       "  </tbody>\n",
       "</table>\n",
       "</div>"
      ],
      "text/plain": [
       "                     Metric    Control       Test Lift (%)  \\\n",
       "0      Conversion Rate (CR)      9.83%      8.64%  -12.06%   \n",
       "1  Click-Through Rate (CTR)      4.86%      8.09%   66.54%   \n",
       "2       Cost Per Acq. (CPA)       4.41       4.92  -12.06%   \n",
       "3               Total Spend  66,818.00  76,892.00   15.08%   \n",
       "4           Total Purchases     15,161     15,637    3.14%   \n",
       "\n",
       "                                     P-value Significant? (✓/✗)  \n",
       "0                                     0.0000                  ✓  \n",
       "1                                     0.0000                  ✓  \n",
       "2  0.0000 (Note: Verify test method for CPA)                  ✓  \n",
       "3                                        NaN                NaN  \n",
       "4                                        NaN                NaN  "
      ]
     },
     "execution_count": 83,
     "metadata": {},
     "output_type": "execute_result"
    }
   ],
   "source": [
    "kpi_summ.head(5) \n"
   ]
  },
  {
   "cell_type": "code",
   "execution_count": 84,
   "metadata": {},
   "outputs": [
    {
     "data": {
      "text/html": [
       "<div>\n",
       "<style scoped>\n",
       "    .dataframe tbody tr th:only-of-type {\n",
       "        vertical-align: middle;\n",
       "    }\n",
       "\n",
       "    .dataframe tbody tr th {\n",
       "        vertical-align: top;\n",
       "    }\n",
       "\n",
       "    .dataframe thead th {\n",
       "        text-align: right;\n",
       "    }\n",
       "</style>\n",
       "<table border=\"1\" class=\"dataframe\">\n",
       "  <thead>\n",
       "    <tr style=\"text-align: right;\">\n",
       "      <th></th>\n",
       "      <th>Campaign Name</th>\n",
       "      <th>Date</th>\n",
       "      <th>Spend [USD]</th>\n",
       "      <th># of Impressions</th>\n",
       "      <th>Reach</th>\n",
       "      <th># of Website Clicks</th>\n",
       "      <th># of Searches</th>\n",
       "      <th># of View Content</th>\n",
       "      <th># of Add to Cart</th>\n",
       "      <th># of Purchase</th>\n",
       "      <th>...</th>\n",
       "      <th>CPC</th>\n",
       "      <th>CR</th>\n",
       "      <th>CPA</th>\n",
       "      <th>Click_to_Search_Ratio</th>\n",
       "      <th>Search_to_View_Content_Ratio</th>\n",
       "      <th>View_Content_to_Add_to_Cart_Ratio</th>\n",
       "      <th>Add_to_Cart_to_Purchase_Ratio</th>\n",
       "      <th>Year</th>\n",
       "      <th>Month</th>\n",
       "      <th>Day</th>\n",
       "    </tr>\n",
       "  </thead>\n",
       "  <tbody>\n",
       "    <tr>\n",
       "      <th>0</th>\n",
       "      <td>Control Campaign</td>\n",
       "      <td>1.08.2019</td>\n",
       "      <td>2280</td>\n",
       "      <td>82702.0</td>\n",
       "      <td>56930.0</td>\n",
       "      <td>7016.0</td>\n",
       "      <td>2290.0</td>\n",
       "      <td>2159.0</td>\n",
       "      <td>1819.0</td>\n",
       "      <td>618.0</td>\n",
       "      <td>...</td>\n",
       "      <td>0.324971</td>\n",
       "      <td>0.088084</td>\n",
       "      <td>3.689320</td>\n",
       "      <td>0.326397</td>\n",
       "      <td>0.942795</td>\n",
       "      <td>0.842520</td>\n",
       "      <td>0.339747</td>\n",
       "      <td>2019</td>\n",
       "      <td>1</td>\n",
       "      <td>8</td>\n",
       "    </tr>\n",
       "    <tr>\n",
       "      <th>1</th>\n",
       "      <td>Control Campaign</td>\n",
       "      <td>2.08.2019</td>\n",
       "      <td>1757</td>\n",
       "      <td>121040.0</td>\n",
       "      <td>102513.0</td>\n",
       "      <td>8110.0</td>\n",
       "      <td>2033.0</td>\n",
       "      <td>1841.0</td>\n",
       "      <td>1219.0</td>\n",
       "      <td>511.0</td>\n",
       "      <td>...</td>\n",
       "      <td>0.216646</td>\n",
       "      <td>0.063009</td>\n",
       "      <td>3.438356</td>\n",
       "      <td>0.250678</td>\n",
       "      <td>0.905558</td>\n",
       "      <td>0.662140</td>\n",
       "      <td>0.419196</td>\n",
       "      <td>2019</td>\n",
       "      <td>2</td>\n",
       "      <td>8</td>\n",
       "    </tr>\n",
       "    <tr>\n",
       "      <th>2</th>\n",
       "      <td>Control Campaign</td>\n",
       "      <td>3.08.2019</td>\n",
       "      <td>2343</td>\n",
       "      <td>131711.0</td>\n",
       "      <td>110862.0</td>\n",
       "      <td>6508.0</td>\n",
       "      <td>1737.0</td>\n",
       "      <td>1549.0</td>\n",
       "      <td>1134.0</td>\n",
       "      <td>372.0</td>\n",
       "      <td>...</td>\n",
       "      <td>0.360018</td>\n",
       "      <td>0.057160</td>\n",
       "      <td>6.298387</td>\n",
       "      <td>0.266902</td>\n",
       "      <td>0.891767</td>\n",
       "      <td>0.732085</td>\n",
       "      <td>0.328042</td>\n",
       "      <td>2019</td>\n",
       "      <td>3</td>\n",
       "      <td>8</td>\n",
       "    </tr>\n",
       "    <tr>\n",
       "      <th>3</th>\n",
       "      <td>Control Campaign</td>\n",
       "      <td>4.08.2019</td>\n",
       "      <td>1940</td>\n",
       "      <td>72878.0</td>\n",
       "      <td>61235.0</td>\n",
       "      <td>3065.0</td>\n",
       "      <td>1042.0</td>\n",
       "      <td>982.0</td>\n",
       "      <td>1183.0</td>\n",
       "      <td>340.0</td>\n",
       "      <td>...</td>\n",
       "      <td>0.632953</td>\n",
       "      <td>0.110930</td>\n",
       "      <td>5.705882</td>\n",
       "      <td>0.339967</td>\n",
       "      <td>0.942418</td>\n",
       "      <td>1.204684</td>\n",
       "      <td>0.287405</td>\n",
       "      <td>2019</td>\n",
       "      <td>4</td>\n",
       "      <td>8</td>\n",
       "    </tr>\n",
       "    <tr>\n",
       "      <th>5</th>\n",
       "      <td>Control Campaign</td>\n",
       "      <td>6.08.2019</td>\n",
       "      <td>3083</td>\n",
       "      <td>109076.0</td>\n",
       "      <td>87998.0</td>\n",
       "      <td>4028.0</td>\n",
       "      <td>1709.0</td>\n",
       "      <td>1249.0</td>\n",
       "      <td>784.0</td>\n",
       "      <td>764.0</td>\n",
       "      <td>...</td>\n",
       "      <td>0.765392</td>\n",
       "      <td>0.189672</td>\n",
       "      <td>4.035340</td>\n",
       "      <td>0.424280</td>\n",
       "      <td>0.730837</td>\n",
       "      <td>0.627702</td>\n",
       "      <td>0.974490</td>\n",
       "      <td>2019</td>\n",
       "      <td>6</td>\n",
       "      <td>8</td>\n",
       "    </tr>\n",
       "  </tbody>\n",
       "</table>\n",
       "<p>5 rows × 21 columns</p>\n",
       "</div>"
      ],
      "text/plain": [
       "      Campaign Name       Date  Spend [USD]  # of Impressions     Reach  \\\n",
       "0  Control Campaign  1.08.2019         2280           82702.0   56930.0   \n",
       "1  Control Campaign  2.08.2019         1757          121040.0  102513.0   \n",
       "2  Control Campaign  3.08.2019         2343          131711.0  110862.0   \n",
       "3  Control Campaign  4.08.2019         1940           72878.0   61235.0   \n",
       "5  Control Campaign  6.08.2019         3083          109076.0   87998.0   \n",
       "\n",
       "   # of Website Clicks  # of Searches  # of View Content  # of Add to Cart  \\\n",
       "0               7016.0         2290.0             2159.0            1819.0   \n",
       "1               8110.0         2033.0             1841.0            1219.0   \n",
       "2               6508.0         1737.0             1549.0            1134.0   \n",
       "3               3065.0         1042.0              982.0            1183.0   \n",
       "5               4028.0         1709.0             1249.0             784.0   \n",
       "\n",
       "   # of Purchase  ...       CPC        CR       CPA  Click_to_Search_Ratio  \\\n",
       "0          618.0  ...  0.324971  0.088084  3.689320               0.326397   \n",
       "1          511.0  ...  0.216646  0.063009  3.438356               0.250678   \n",
       "2          372.0  ...  0.360018  0.057160  6.298387               0.266902   \n",
       "3          340.0  ...  0.632953  0.110930  5.705882               0.339967   \n",
       "5          764.0  ...  0.765392  0.189672  4.035340               0.424280   \n",
       "\n",
       "   Search_to_View_Content_Ratio  View_Content_to_Add_to_Cart_Ratio  \\\n",
       "0                      0.942795                           0.842520   \n",
       "1                      0.905558                           0.662140   \n",
       "2                      0.891767                           0.732085   \n",
       "3                      0.942418                           1.204684   \n",
       "5                      0.730837                           0.627702   \n",
       "\n",
       "   Add_to_Cart_to_Purchase_Ratio  Year  Month  Day  \n",
       "0                       0.339747  2019      1    8  \n",
       "1                       0.419196  2019      2    8  \n",
       "2                       0.328042  2019      3    8  \n",
       "3                       0.287405  2019      4    8  \n",
       "5                       0.974490  2019      6    8  \n",
       "\n",
       "[5 rows x 21 columns]"
      ]
     },
     "execution_count": 84,
     "metadata": {},
     "output_type": "execute_result"
    }
   ],
   "source": [
    "combined_data.head(5)  \n"
   ]
  },
  {
   "cell_type": "code",
   "execution_count": 85,
   "metadata": {},
   "outputs": [
    {
     "data": {
      "text/plain": [
       "Index(['Campaign Name', 'Date', 'Spend [USD]', '# of Impressions', 'Reach',\n",
       "       '# of Website Clicks', '# of Searches', '# of View Content',\n",
       "       '# of Add to Cart', '# of Purchase', 'CTR', 'CPC', 'CR', 'CPA',\n",
       "       'Click_to_Search_Ratio', 'Search_to_View_Content_Ratio',\n",
       "       'View_Content_to_Add_to_Cart_Ratio', 'Add_to_Cart_to_Purchase_Ratio',\n",
       "       'Year', 'Month', 'Day'],\n",
       "      dtype='object')"
      ]
     },
     "execution_count": 85,
     "metadata": {},
     "output_type": "execute_result"
    }
   ],
   "source": [
    "combined_data.columns\n",
    " "
   ]
  },
  {
   "cell_type": "code",
   "execution_count": null,
   "metadata": {},
   "outputs": [],
   "source": []
  }
 ],
 "metadata": {
  "kernelspec": {
   "display_name": "stable",
   "language": "python",
   "name": "python3"
  },
  "language_info": {
   "codemirror_mode": {
    "name": "ipython",
    "version": 3
   },
   "file_extension": ".py",
   "mimetype": "text/x-python",
   "name": "python",
   "nbconvert_exporter": "python",
   "pygments_lexer": "ipython3",
   "version": "3.10.16"
  }
 },
 "nbformat": 4,
 "nbformat_minor": 2
}
